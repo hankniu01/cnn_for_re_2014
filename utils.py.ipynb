{
 "cells": [
  {
   "cell_type": "code",
   "execution_count": 19,
   "metadata": {},
   "outputs": [],
   "source": [
    "import json"
   ]
  },
  {
   "cell_type": "code",
   "execution_count": 20,
   "metadata": {},
   "outputs": [],
   "source": [
    "train_data = []\n",
    "path_data_file = '/home/niuhao/project/RE/CNN-relation-extraction/data/train.json'\n",
    "with open(path_data_file, 'r', encoding='utf-8') as fr:\n",
    "    for line in fr:\n",
    "        train_data += json.loads(line.strip())\n",
    "                "
   ]
  },
  {
   "cell_type": "code",
   "execution_count": 21,
   "metadata": {},
   "outputs": [
    {
     "data": {
      "text/plain": [
       "{'id': '8000',\n",
       " 'relation': 'Product-Producer(e2,e1)',\n",
       " 'head': 'surgeon',\n",
       " 'tail': 'hole',\n",
       " 'subj_start': 1,\n",
       " 'subj_end': 1,\n",
       " 'obj_start': 5,\n",
       " 'obj_end': 5,\n",
       " 'sentence': ['The',\n",
       "  'surgeon',\n",
       "  'cuts',\n",
       "  'a',\n",
       "  'small',\n",
       "  'hole',\n",
       "  'in',\n",
       "  'the',\n",
       "  'skull',\n",
       "  'and',\n",
       "  'lifts',\n",
       "  'the',\n",
       "  'edge',\n",
       "  'of',\n",
       "  'the',\n",
       "  'brain',\n",
       "  'to',\n",
       "  'expose',\n",
       "  'the',\n",
       "  'nerve',\n",
       "  '.'],\n",
       " 'comment': ''}"
      ]
     },
     "execution_count": 21,
     "metadata": {},
     "output_type": "execute_result"
    }
   ],
   "source": [
    "json.loads(line.strip())"
   ]
  },
  {
   "cell_type": "code",
   "execution_count": 18,
   "metadata": {},
   "outputs": [
    {
     "data": {
      "text/plain": [
       "80000"
      ]
     },
     "execution_count": 18,
     "metadata": {},
     "output_type": "execute_result"
    }
   ],
   "source": [
    "len(train_data)"
   ]
  },
  {
   "cell_type": "code",
   "execution_count": null,
   "metadata": {},
   "outputs": [],
   "source": []
  }
 ],
 "metadata": {
  "kernelspec": {
   "display_name": "PYTH_1.6",
   "language": "python",
   "name": "pyth_1.6"
  },
  "language_info": {
   "codemirror_mode": {
    "name": "ipython",
    "version": 3
   },
   "file_extension": ".py",
   "mimetype": "text/x-python",
   "name": "python",
   "nbconvert_exporter": "python",
   "pygments_lexer": "ipython3",
   "version": "3.8.3"
  }
 },
 "nbformat": 4,
 "nbformat_minor": 2
}
