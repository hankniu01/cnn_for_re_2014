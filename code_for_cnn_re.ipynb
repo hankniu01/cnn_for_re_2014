{
 "cells": [
  {
   "cell_type": "markdown",
   "metadata": {},
   "source": [
    "# 1 前言\n",
    "### 1.1课程回顾"
   ]
  },
  {
   "cell_type": "markdown",
   "metadata": {},
   "source": [
    "<img src='imgs/synopsis.png' width=\"800\" height=\"800\" align=\"bottom\">"
   ]
  },
  {
   "cell_type": "markdown",
   "metadata": {},
   "source": [
    "### 1.2 模型结构\n",
    "<img src=\"./imgs/overall_cnn_re.png\"  width=\"700\" height=\"700\" align=\"bottom\" />"
   ]
  },
  {
   "cell_type": "markdown",
   "metadata": {},
   "source": [
    "### 1.3 代码结构展示\n",
    "<img src=\"./imgs/structure.jpg\"  width=\"500\" height=\"500\" align=\"left\" />"
   ]
  },
  {
   "cell_type": "markdown",
   "metadata": {},
   "source": [
    "# 2 准备工作\n",
    "### 2.1项目环境配置\n",
    "\n",
    "* Python3.8\n",
    "* jupyter notebook\n",
    "* torch           1.6.0+cu10.2\n",
    "* numpy           1.18.5\n",
    "\n",
    "代码运行环境建议使用Visual Studio Code(VScode)，相比于Pycharm， VScode更加方便好用"
   ]
  },
  {
   "cell_type": "markdown",
   "metadata": {},
   "source": [
    "\n",
    "### 2.2 数据集下载\n",
    "SemEval2010_task8数据集，可以在https://drive.google.com/file/d/0B_jQiLugGTAkMDQ5ZjZiMTUtMzQ1Yy00YWNmLWJlZDYtOWY1ZDMwY2U4YjFk/view?sort=name&layout=list&num=50 <br>\n",
    "上下载, 同时我们课程会提供给大家"
   ]
  },
  {
   "cell_type": "markdown",
   "metadata": {},
   "source": [
    "### 2.3 Word embedding下载\n",
    "文件名：hlbl-embeddings-scaled.EMBEDDING_SIZE=50 <br>\n",
    "链接：https://pan.baidu.com/s/1Nm1dcad7h3Y6xVQ8TK9KDw <br> \n",
    "提取码：qn5x "
   ]
  },
  {
   "cell_type": "markdown",
   "metadata": {},
   "source": [
    "# 3 项目代码结构（VScode中演示）\n",
    "\n",
    ">1）是什么？\n",
    "\n",
    "　　我们首先会在VScode环境中让代码跑一下，直观感受到项目的训练，并展示前向推断的输出，让大家看到模型的效果。\n",
    ">2）怎么构成的？\n",
    "\n",
    "　　然后介绍项目代码的构成，介绍项目有哪些文件夹，包含哪些文件，这些文件构成了什么功能模块如：数据预处理模块，模型设计模块，损失函数模块，推断与评估模块。\n",
    ">3）小结\n",
    "\n",
    "　　在run.py主文件中在过一下启动训练的流程。"
   ]
  },
  {
   "cell_type": "markdown",
   "metadata": {},
   "source": [
    "# 4 算法模块及细节（jupyter和VScode中演示）\n",
    "\n",
    "　　在jupyter notebook中细致地讲解每一个模块。\n",
    "  \n",
    "　　以实现模块功能为目的，来讲解每个函数的执行流程，并尽可能地呈现中间数据，方便同学们理解学习。\n",
    "  \n",
    "　　内容分为4个模块：**数据处理，模型设计，损失函数计算，模型评估**。"
   ]
  },
  {
   "cell_type": "code",
   "execution_count": 35,
   "metadata": {
    "colab": {},
    "colab_type": "code",
    "id": "aTsg5j62xfnk"
   },
   "outputs": [],
   "source": [
    "import argparse\n",
    "import torch\n",
    "import os\n",
    "import random\n",
    "import json\n",
    "import numpy as np\n",
    "from torch.utils.data import Dataset, DataLoader"
   ]
  },
  {
   "cell_type": "markdown",
   "metadata": {},
   "source": [
    "## 4.1 超参数设置"
   ]
  },
  {
   "cell_type": "code",
   "execution_count": 5,
   "metadata": {},
   "outputs": [],
   "source": [
    "class Config(object):\n",
    "    def __init__(self):\n",
    "        # get init config\n",
    "        args = self.__get_config()\n",
    "        for key in args.__dict__:\n",
    "            setattr(self, key, args.__dict__[key])\n",
    "\n",
    "        # select device\n",
    "        self.device = None\n",
    "        if self.cuda >= 0 and torch.cuda.is_available():\n",
    "            self.device = torch.device('cuda:{}'.format(self.cuda))\n",
    "        else:\n",
    "            self.device = torch.device('cpu')\n",
    "\n",
    "        # determine the model name and model dir\n",
    "        if self.model_name is None:\n",
    "            self.model_name = 'CNN'\n",
    "        self.model_dir = os.path.join(self.output_dir, self.model_name)\n",
    "        if not os.path.exists(self.model_dir):\n",
    "            os.makedirs(self.model_dir)\n",
    "\n",
    "        # backup data\n",
    "        self.__config_backup(args)\n",
    "\n",
    "        # set the random seed\n",
    "        self.__set_seed(self.seed)\n",
    "\n",
    "    def __get_config(self):\n",
    "        parser = argparse.ArgumentParser()\n",
    "        parser.description = 'config for models'\n",
    "\n",
    "        # several key selective parameters\n",
    "        parser.add_argument('--data_dir', type=str,\n",
    "                            default='./data',\n",
    "                            help='dir to load data')\n",
    "        parser.add_argument('--output_dir', type=str,\n",
    "                            default='./output',\n",
    "                            help='dir to save output')\n",
    "\n",
    "        # word embedding\n",
    "        parser.add_argument('--embedding_path', type=str,\n",
    "                            default='./embedding/hlbl-embeddings-scaled.EMBEDDING_SIZE=50.txt',\n",
    "                            help='pre_trained word embedding')\n",
    "        parser.add_argument('--word_dim', type=int,\n",
    "                            default=50,\n",
    "                            help='dimension of word embedding')\n",
    "\n",
    "        # train settings\n",
    "        parser.add_argument('--model_name', type=str,\n",
    "                            default=None,\n",
    "                            help='model name')\n",
    "        parser.add_argument('--mode', type=int,\n",
    "                            default=1,\n",
    "                            choices=[0, 1],\n",
    "                            help='running mode: 1 for training; otherwise testing')\n",
    "        parser.add_argument('--seed', type=int,\n",
    "                            default=5782,\n",
    "                            help='random seed')\n",
    "        parser.add_argument('--cuda', type=int,\n",
    "                            default=0,\n",
    "                            help='num of gpu device, if -1, select cpu')\n",
    "        parser.add_argument('--epoch', type=int,\n",
    "                            default=20,\n",
    "                            help='max epoches during training')\n",
    "\n",
    "        # hyper parameters\n",
    "        parser.add_argument('--dropout', type=float,\n",
    "                            default=0.5,\n",
    "                            help='the possiblity of dropout')\n",
    "        parser.add_argument('--batch_size', type=int,\n",
    "                            default=128,\n",
    "                            help='batch size')\n",
    "        parser.add_argument('--lr', type=float,\n",
    "                            default=0.001,\n",
    "                            help='learning rate')\n",
    "        parser.add_argument('--max_len', type=int,\n",
    "                            default=100,\n",
    "                            help='max length of sentence')\n",
    "        parser.add_argument('--pos_dis', type=int, default=50,\n",
    "                            help='max distance of position embedding')\n",
    "        parser.add_argument('--pos_dim', type=int,\n",
    "                            default=5,\n",
    "                            help='dimension of position embedding')\n",
    "        parser.add_argument('--hidden_size', type=int, default=100,\n",
    "                            help='the size of linear layer between convolution and classification')\n",
    "\n",
    "        # hyper parameters for cnn\n",
    "        parser.add_argument('--filter_num', type=int, default=200,\n",
    "                            help='the number of filters in convolution')\n",
    "        parser.add_argument('--window', type=int, default=3,\n",
    "                            help='the size of window in convolution')\n",
    "\n",
    "        parser.add_argument('--L2_decay', type=float, default=1e-5,\n",
    "                            help='L2 weight decay')\n",
    "\n",
    "        args = parser.parse_args(args=[])\n",
    "#         args = parser.parse_args()\n",
    "        return args\n",
    "\n",
    "    def __set_seed(self, seed=1234):\n",
    "        os.environ['PYTHONHASHSEED'] = '{}'.format(seed)\n",
    "        random.seed(seed)\n",
    "        np.random.seed(seed)\n",
    "        torch.manual_seed(seed)  # set seed for cpu\n",
    "        torch.cuda.manual_seed(seed)  # set seed for current gpu\n",
    "        torch.cuda.manual_seed_all(seed)  # set seed for all gpu\n",
    "\n",
    "    def __config_backup(self, args):\n",
    "        config_backup_path = os.path.join(self.model_dir, 'config.json')\n",
    "        with open(config_backup_path, 'w', encoding='utf-8') as fw:\n",
    "            json.dump(vars(args), fw, ensure_ascii=False)\n",
    "\n",
    "    def print_config(self):\n",
    "        for key in self.__dict__:\n",
    "            print(key, end=' = ')\n",
    "            print(self.__dict__[key])"
   ]
  },
  {
   "cell_type": "code",
   "execution_count": 6,
   "metadata": {
    "scrolled": true
   },
   "outputs": [],
   "source": [
    "config = Config()"
   ]
  },
  {
   "cell_type": "code",
   "execution_count": 7,
   "metadata": {},
   "outputs": [
    {
     "name": "stdout",
     "output_type": "stream",
     "text": [
      "data_dir = ./data\n",
      "output_dir = ./output\n",
      "embedding_path = ./embedding/hlbl-embeddings-scaled.EMBEDDING_SIZE=50.txt\n",
      "word_dim = 50\n",
      "model_name = CNN\n",
      "mode = 1\n",
      "seed = 5782\n",
      "cuda = 0\n",
      "epoch = 20\n",
      "dropout = 0.5\n",
      "batch_size = 128\n",
      "lr = 0.001\n",
      "max_len = 100\n",
      "pos_dis = 50\n",
      "pos_dim = 5\n",
      "hidden_size = 100\n",
      "filter_num = 200\n",
      "window = 3\n",
      "L2_decay = 1e-05\n",
      "device = cuda:0\n",
      "model_dir = ./output/CNN\n"
     ]
    }
   ],
   "source": [
    "config.print_config()"
   ]
  },
  {
   "cell_type": "markdown",
   "metadata": {},
   "source": [
    "## 4.2 数据读取 \n",
    "* 预训练词向量读取\n",
    "* 关系标签读取"
   ]
  },
  {
   "cell_type": "markdown",
   "metadata": {},
   "source": [
    "### 4.2.1 预训练词向量读取"
   ]
  },
  {
   "cell_type": "code",
   "execution_count": 8,
   "metadata": {},
   "outputs": [],
   "source": [
    "class WordEmbeddingLoader(object):\n",
    "    \"\"\"\n",
    "    A loader for pre-trained word embedding\n",
    "    \"\"\"\n",
    "\n",
    "    def __init__(self, config):\n",
    "        self.path_word = config.embedding_path  # path of pre-trained word embedding\n",
    "        self.word_dim = config.word_dim  # dimension of word embedding\n",
    "\n",
    "    def load_embedding(self):\n",
    "        word2id = dict()  # word to wordID\n",
    "        word_vec = list()  # wordID to word embedding\n",
    "\n",
    "        word2id['PAD'] = len(word2id)  # PAD character\n",
    "\n",
    "        with open(self.path_word, 'r', encoding='utf-8') as fr:\n",
    "            for line in fr:\n",
    "                line = line.strip().split()\n",
    "                if len(line) != self.word_dim + 1:\n",
    "                    continue\n",
    "                word2id[line[0]] = len(word2id)\n",
    "                word_vec.append(np.asarray(line[1:], dtype=np.float32))\n",
    "\n",
    "        pad_emb = np.zeros([1, self.word_dim], dtype=np.float32)  # <pad> is initialize as zero\n",
    "        word_vec = np.concatenate((pad_emb, word_vec), axis=0)\n",
    "        word_vec = word_vec.astype(np.float32).reshape(-1, self.word_dim)\n",
    "        word_vec = torch.from_numpy(word_vec)\n",
    "        return word2id, word_vec"
   ]
  },
  {
   "cell_type": "code",
   "execution_count": 9,
   "metadata": {},
   "outputs": [],
   "source": [
    "# 预训练词向量读取\n",
    "word2id, word_vec = WordEmbeddingLoader(config).load_embedding()"
   ]
  },
  {
   "cell_type": "code",
   "execution_count": 10,
   "metadata": {},
   "outputs": [
    {
     "data": {
      "text/plain": [
       "{'PAD': 0,\n",
       " '*UNKNOWN*': 1,\n",
       " 'the': 2,\n",
       " '.': 3,\n",
       " ',': 4,\n",
       " 'to': 5,\n",
       " 'of': 6,\n",
       " 'in': 7,\n",
       " 'a': 8,\n",
       " 'and': 9,\n",
       " '\"': 10,\n",
       " 'said': 11,\n",
       " 'on': 12,\n",
       " 'for': 13,\n",
       " \"'s\": 14,\n",
       " 'The': 15,\n",
       " 'that': 16,\n",
       " 'is': 17,\n",
       " 'was': 18,\n",
       " 'by': 19,\n",
       " 'be': 20,\n",
       " 'with': 21,\n",
       " 'it': 22,\n",
       " 'as': 23,\n",
       " 'from': 24,\n",
       " 'at': 25,\n",
       " 'will': 26,\n",
       " 'has': 27,\n",
       " 'not': 28,\n",
       " 'would': 29,\n",
       " 'have': 30,\n",
       " 'its': 31,\n",
       " 'he': 32,\n",
       " 'are': 33,\n",
       " 'an': 34,\n",
       " 'had': 35,\n",
       " 'were': 36,\n",
       " 'which': 37,\n",
       " 'but': 38,\n",
       " 'market': 39,\n",
       " 'percent': 40,\n",
       " 'this': 41,\n",
       " 'been': 42,\n",
       " 'year': 43,\n",
       " 'government': 44,\n",
       " 'their': 45,\n",
       " 'after': 46,\n",
       " 'his': 47,\n",
       " 'they': 48,\n",
       " 'also': 49,\n",
       " 'company': 50,\n",
       " 'up': 51,\n",
       " 'one': 52,\n",
       " 'more': 53,\n",
       " 'who': 54,\n",
       " ')': 55,\n",
       " '(': 56,\n",
       " 'new': 57,\n",
       " 'two': 58,\n",
       " 'over': 59,\n",
       " 'million': 60,\n",
       " 'or': 61,\n",
       " 'last': 62,\n",
       " 'about': 63,\n",
       " 'could': 64,\n",
       " 'we': 65,\n",
       " 'some': 66,\n",
       " 'But': 67,\n",
       " 'than': 68,\n",
       " 'It': 69,\n",
       " 'into': 70,\n",
       " 'first': 71,\n",
       " '--': 72,\n",
       " 'other': 73,\n",
       " 'told': 74,\n",
       " 'out': 75,\n",
       " 'no': 76,\n",
       " 'week': 77,\n",
       " 'there': 78,\n",
       " 'expected': 79,\n",
       " 'He': 80,\n",
       " 'next': 81,\n",
       " 'I': 82,\n",
       " 'Tuesday': 83,\n",
       " 'U.S.': 84,\n",
       " 'We': 85,\n",
       " '-': 86,\n",
       " 'Thursday': 87,\n",
       " 'prices': 88,\n",
       " 'Wednesday': 89,\n",
       " 'A': 90,\n",
       " 'when': 91,\n",
       " 'against': 92,\n",
       " '$': 93,\n",
       " 'all': 94,\n",
       " 'Friday': 95,\n",
       " 'years': 96,\n",
       " 'Monday': 97,\n",
       " 'if': 98,\n",
       " 'three': 99,\n",
       " 'In': 100,\n",
       " 'bank': 101,\n",
       " 'European': 102,\n",
       " 'state': 103,\n",
       " 'because': 104,\n",
       " 'people': 105,\n",
       " 'group': 106,\n",
       " 'any': 107,\n",
       " 'should': 108,\n",
       " 'only': 109,\n",
       " 'time': 110,\n",
       " 'shares': 111,\n",
       " 'before': 112,\n",
       " 'between': 113,\n",
       " 'billion': 114,\n",
       " 'rates': 115,\n",
       " \"'\": 116,\n",
       " 'interest': 117,\n",
       " 'foreign': 118,\n",
       " 'economic': 119,\n",
       " 'now': 120,\n",
       " 'trade': 121,\n",
       " 'added': 122,\n",
       " 'companies': 123,\n",
       " 'statement': 124,\n",
       " 'most': 125,\n",
       " 'rate': 126,\n",
       " 'still': 127,\n",
       " 'under': 128,\n",
       " 'officials': 129,\n",
       " 'business': 130,\n",
       " 'do': 131,\n",
       " 'oil': 132,\n",
       " 'growth': 133,\n",
       " 'Minister': 134,\n",
       " 'country': 135,\n",
       " 'can': 136,\n",
       " 'made': 137,\n",
       " 'since': 138,\n",
       " 'end': 139,\n",
       " 'them': 140,\n",
       " 'Bank': 141,\n",
       " 'months': 142,\n",
       " 'down': 143,\n",
       " 'our': 144,\n",
       " ':': 145,\n",
       " 'United': 146,\n",
       " 'official': 147,\n",
       " 'markets': 148,\n",
       " 'may': 149,\n",
       " 'meeting': 150,\n",
       " 'month': 151,\n",
       " 'due': 152,\n",
       " 'did': 153,\n",
       " 'take': 154,\n",
       " 'share': 155,\n",
       " 'being': 156,\n",
       " 'through': 157,\n",
       " 'news': 158,\n",
       " 'industry': 159,\n",
       " 'price': 160,\n",
       " 'sales': 161,\n",
       " 'very': 162,\n",
       " 'second': 163,\n",
       " 'so': 164,\n",
       " 'stock': 165,\n",
       " 'while': 166,\n",
       " 'such': 167,\n",
       " 'higher': 168,\n",
       " 'investors': 169,\n",
       " 'President': 170,\n",
       " 'make': 171,\n",
       " 'report': 172,\n",
       " 'during': 173,\n",
       " 'say': 174,\n",
       " 'back': 175,\n",
       " 'financial': 176,\n",
       " 'further': 177,\n",
       " 'what': 178,\n",
       " 'off': 179,\n",
       " 'Reuters': 180,\n",
       " 'world': 181,\n",
       " 'lower': 182,\n",
       " 'where': 183,\n",
       " 'early': 184,\n",
       " 'countries': 185,\n",
       " 'political': 186,\n",
       " 'analysts': 187,\n",
       " 'central': 188,\n",
       " 'set': 189,\n",
       " 'five': 190,\n",
       " 'demand': 191,\n",
       " 'day': 192,\n",
       " 'president': 193,\n",
       " 'public': 194,\n",
       " 'international': 195,\n",
       " \"n't\": 196,\n",
       " 'quarter': 197,\n",
       " 'deal': 198,\n",
       " 'major': 199,\n",
       " 'well': 200,\n",
       " 'They': 201,\n",
       " 'four': 202,\n",
       " 'China': 203,\n",
       " 'tax': 204,\n",
       " 'trading': 205,\n",
       " 'many': 206,\n",
       " 'capital': 207,\n",
       " 'investment': 208,\n",
       " 'local': 209,\n",
       " 'traders': 210,\n",
       " 'high': 211,\n",
       " 'There': 212,\n",
       " 'strong': 213,\n",
       " 'New': 214,\n",
       " 'This': 215,\n",
       " 'following': 216,\n",
       " 'spokesman': 217,\n",
       " 'budget': 218,\n",
       " 'economy': 219,\n",
       " 'issue': 220,\n",
       " 'agreement': 221,\n",
       " 'part': 222,\n",
       " 'saying': 223,\n",
       " 'earlier': 224,\n",
       " 'talks': 225,\n",
       " 'around': 226,\n",
       " 'recent': 227,\n",
       " 'likely': 228,\n",
       " 'banks': 229,\n",
       " 'former': 230,\n",
       " 'dollar': 231,\n",
       " 'chief': 232,\n",
       " 'police': 233,\n",
       " 'States': 234,\n",
       " 'currency': 235,\n",
       " 'much': 236,\n",
       " 'policy': 237,\n",
       " 'including': 238,\n",
       " 'money': 239,\n",
       " 'both': 240,\n",
       " 'plans': 241,\n",
       " 'these': 242,\n",
       " 'just': 243,\n",
       " 'increase': 244,\n",
       " 'stocks': 245,\n",
       " 'current': 246,\n",
       " 'September': 247,\n",
       " 'support': 248,\n",
       " 'system': 249,\n",
       " 'six': 250,\n",
       " 'rise': 251,\n",
       " 'Europe': 252,\n",
       " 'cut': 253,\n",
       " '10': 254,\n",
       " 'South': 255,\n",
       " 'party': 256,\n",
       " 'sector': 257,\n",
       " 'power': 258,\n",
       " '1997': 259,\n",
       " 'British': 260,\n",
       " 'German': 261,\n",
       " 'him': 262,\n",
       " 'good': 263,\n",
       " 'another': 264,\n",
       " 'those': 265,\n",
       " 'see': 266,\n",
       " 'conference': 267,\n",
       " 'number': 268,\n",
       " 'half': 269,\n",
       " 'plan': 270,\n",
       " 'way': 271,\n",
       " 'October': 272,\n",
       " 'days': 273,\n",
       " 'results': 274,\n",
       " 'per': 275,\n",
       " 'already': 276,\n",
       " 'decision': 277,\n",
       " 'continue': 278,\n",
       " 'November': 279,\n",
       " 'inflation': 280,\n",
       " 'French': 281,\n",
       " 'products': 282,\n",
       " 'Sunday': 283,\n",
       " 'minister': 284,\n",
       " 'production': 285,\n",
       " 'move': 286,\n",
       " 'until': 287,\n",
       " 'reported': 288,\n",
       " 'Clinton': 289,\n",
       " 'third': 290,\n",
       " 'EU': 291,\n",
       " 'help': 292,\n",
       " 'she': 293,\n",
       " 'firm': 294,\n",
       " 'whether': 295,\n",
       " 'going': 296,\n",
       " 'close': 297,\n",
       " 'peace': 298,\n",
       " 'exchange': 299,\n",
       " 'ahead': 300,\n",
       " 'does': 301,\n",
       " 'think': 302,\n",
       " 'her': 303,\n",
       " 'military': 304,\n",
       " 'work': 305,\n",
       " 'called': 306,\n",
       " 'held': 307,\n",
       " 'late': 308,\n",
       " 'election': 309,\n",
       " 'future': 310,\n",
       " 'get': 311,\n",
       " 'funds': 312,\n",
       " 'parliament': 313,\n",
       " 'general': 314,\n",
       " 'like': 315,\n",
       " 'used': 316,\n",
       " 'domestic': 317,\n",
       " 'long': 318,\n",
       " 'announced': 319,\n",
       " 'even': 320,\n",
       " 'France': 321,\n",
       " 'opposition': 322,\n",
       " 'must': 323,\n",
       " 'several': 324,\n",
       " 'go': 325,\n",
       " 'sources': 326,\n",
       " 'later': 327,\n",
       " 'past': 328,\n",
       " 'you': 329,\n",
       " 'debt': 330,\n",
       " 'Saturday': 331,\n",
       " 'data': 332,\n",
       " 'put': 333,\n",
       " 'then': 334,\n",
       " 'security': 335,\n",
       " 'how': 336,\n",
       " 'court': 337,\n",
       " 'few': 338,\n",
       " 'possible': 339,\n",
       " 'seen': 340,\n",
       " 'main': 341,\n",
       " 'level': 342,\n",
       " 'Commission': 343,\n",
       " 'start': 344,\n",
       " 'might': 345,\n",
       " 'Japan': 346,\n",
       " 'use': 347,\n",
       " 'region': 348,\n",
       " 'low': 349,\n",
       " 'services': 350,\n",
       " 'Union': 351,\n",
       " 'key': 352,\n",
       " 'members': 353,\n",
       " 'same': 354,\n",
       " 'December': 355,\n",
       " 'city': 356,\n",
       " 'leader': 357,\n",
       " '...': 358,\n",
       " 'dealers': 359,\n",
       " 'law': 360,\n",
       " 'come': 361,\n",
       " 'issues': 362,\n",
       " 'Corp': 363,\n",
       " 'agreed': 364,\n",
       " 'little': 365,\n",
       " 'Prime': 366,\n",
       " 'board': 367,\n",
       " 'national': 368,\n",
       " 'trader': 369,\n",
       " 'earnings': 370,\n",
       " 'National': 371,\n",
       " 'give': 372,\n",
       " 'Germany': 373,\n",
       " 'offer': 374,\n",
       " 'leading': 375,\n",
       " 'planned': 376,\n",
       " 'without': 377,\n",
       " 'home': 378,\n",
       " 'costs': 379,\n",
       " 'If': 380,\n",
       " 'executive': 381,\n",
       " 'pay': 382,\n",
       " 'gas': 383,\n",
       " 'says': 384,\n",
       " 'weeks': 385,\n",
       " 'need': 386,\n",
       " 'levels': 387,\n",
       " '20': 388,\n",
       " 'ago': 389,\n",
       " 'Britain': 390,\n",
       " 'Iraq': 391,\n",
       " 'reporters': 392,\n",
       " 'buying': 393,\n",
       " 'bonds': 394,\n",
       " 'union': 395,\n",
       " 'chairman': 396,\n",
       " 'yen': 397,\n",
       " 'August': 398,\n",
       " 'unless': 399,\n",
       " 'Inc': 400,\n",
       " 'within': 401,\n",
       " 'meet': 402,\n",
       " 'operations': 403,\n",
       " 'own': 404,\n",
       " 'leaders': 405,\n",
       " 'elections': 406,\n",
       " 'development': 407,\n",
       " 'period': 408,\n",
       " 'problems': 409,\n",
       " 'control': 410,\n",
       " 'took': 411,\n",
       " 'far': 412,\n",
       " 'bond': 413,\n",
       " 'change': 414,\n",
       " 'pressure': 415,\n",
       " 'cash': 416,\n",
       " 'Russian': 417,\n",
       " 'among': 418,\n",
       " 'too': 419,\n",
       " 'force': 420,\n",
       " 'today': 421,\n",
       " 'private': 422,\n",
       " 'ended': 423,\n",
       " 'Russia': 424,\n",
       " 'Japanese': 425,\n",
       " 'points': 426,\n",
       " 'futures': 427,\n",
       " 'Israel': 428,\n",
       " 'want': 429,\n",
       " 'top': 430,\n",
       " 'place': 431,\n",
       " 'taken': 432,\n",
       " 'open': 433,\n",
       " 'large': 434,\n",
       " 'figures': 435,\n",
       " 'rights': 436,\n",
       " 'return': 437,\n",
       " 'fall': 438,\n",
       " 'workers': 439,\n",
       " 'case': 440,\n",
       " '1996': 441,\n",
       " 'buy': 442,\n",
       " 'newspaper': 443,\n",
       " 'least': 444,\n",
       " 'near': 445,\n",
       " 'International': 446,\n",
       " 'service': 447,\n",
       " 'sale': 448,\n",
       " 'London': 449,\n",
       " 'closed': 450,\n",
       " 'lead': 451,\n",
       " 'process': 452,\n",
       " 'continued': 453,\n",
       " 'firms': 454,\n",
       " 'area': 455,\n",
       " 'result': 456,\n",
       " 'average': 457,\n",
       " 'line': 458,\n",
       " 'profit': 459,\n",
       " 'small': 460,\n",
       " 'information': 461,\n",
       " 'finance': 462,\n",
       " 'American': 463,\n",
       " 'July': 464,\n",
       " 'selling': 465,\n",
       " 'final': 466,\n",
       " 'despite': 467,\n",
       " 'left': 468,\n",
       " 'less': 469,\n",
       " 'ministry': 470,\n",
       " 'head': 471,\n",
       " 'management': 472,\n",
       " 'agency': 473,\n",
       " '30': 474,\n",
       " 'clear': 475,\n",
       " 'Australian': 476,\n",
       " 'senior': 477,\n",
       " 'war': 478,\n",
       " 'monetary': 479,\n",
       " 'big': 480,\n",
       " 'analyst': 481,\n",
       " 'remain': 482,\n",
       " 'director': 483,\n",
       " 'right': 484,\n",
       " 'total': 485,\n",
       " 'action': 486,\n",
       " 'yet': 487,\n",
       " 'become': 488,\n",
       " 'given': 489,\n",
       " 'stories': 490,\n",
       " 'sell': 491,\n",
       " 'order': 492,\n",
       " 'position': 493,\n",
       " 'Ltd': 494,\n",
       " 'full': 495,\n",
       " 'keep': 496,\n",
       " 'income': 497,\n",
       " 'expect': 498,\n",
       " 'comment': 499,\n",
       " 'campaign': 500,\n",
       " 'Australia': 501,\n",
       " 'again': 502,\n",
       " 'based': 503,\n",
       " 'available': 504,\n",
       " 'found': 505,\n",
       " 'better': 506,\n",
       " 'basis': 507,\n",
       " 'Party': 508,\n",
       " 'office': 509,\n",
       " 'dealer': 510,\n",
       " '15': 511,\n",
       " 'largest': 512,\n",
       " 'came': 513,\n",
       " 'showed': 514,\n",
       " 'conditions': 515,\n",
       " 'fund': 516,\n",
       " 'Israeli': 517,\n",
       " 'television': 518,\n",
       " 'reports': 519,\n",
       " 'authorities': 520,\n",
       " 'seven': 521,\n",
       " 'vote': 522,\n",
       " 'forces': 523,\n",
       " 'cost': 524,\n",
       " 'term': 525,\n",
       " 'operating': 526,\n",
       " 'Hong': 527,\n",
       " 'each': 528,\n",
       " 'supply': 529,\n",
       " 'quoted': 530,\n",
       " 'contract': 531,\n",
       " 'states': 532,\n",
       " 'bid': 533,\n",
       " 'common': 534,\n",
       " 'gains': 535,\n",
       " 'point': 536,\n",
       " 'taking': 537,\n",
       " 'details': 538,\n",
       " 'asked': 539,\n",
       " 'areas': 540,\n",
       " 'us': 541,\n",
       " 'terms': 542,\n",
       " 'net': 543,\n",
       " 'although': 544,\n",
       " 'allow': 545,\n",
       " 'Kong': 546,\n",
       " 'Yeltsin': 547,\n",
       " 'profits': 548,\n",
       " 'Some': 549,\n",
       " 'annual': 550,\n",
       " 'East': 551,\n",
       " 'situation': 552,\n",
       " 'single': 553,\n",
       " 'World': 554,\n",
       " 'remained': 555,\n",
       " 'deficit': 556,\n",
       " 'hold': 557,\n",
       " 'record': 558,\n",
       " 'unit': 559,\n",
       " 'exports': 560,\n",
       " '1': 561,\n",
       " 'gold': 562,\n",
       " 'shareholders': 563,\n",
       " 'parties': 564,\n",
       " 'product': 565,\n",
       " 'index': 566,\n",
       " 'member': 567,\n",
       " 'believe': 568,\n",
       " 'fell': 569,\n",
       " 'spending': 570,\n",
       " 'hit': 571,\n",
       " 'rose': 572,\n",
       " 'adding': 573,\n",
       " 'Washington': 574,\n",
       " 'measures': 575,\n",
       " 'press': 576,\n",
       " 'increased': 577,\n",
       " 'short': 578,\n",
       " 'joint': 579,\n",
       " 'provide': 580,\n",
       " 'troops': 581,\n",
       " 'making': 582,\n",
       " 'strike': 583,\n",
       " 'important': 584,\n",
       " 'India': 585,\n",
       " 'team': 586,\n",
       " 'health': 587,\n",
       " 'value': 588,\n",
       " 'morning': 589,\n",
       " 'January': 590,\n",
       " 'killed': 591,\n",
       " 'On': 592,\n",
       " 'export': 593,\n",
       " 'charges': 594,\n",
       " 'able': 595,\n",
       " 'coming': 596,\n",
       " 'signed': 597,\n",
       " 'declined': 598,\n",
       " 'working': 599,\n",
       " 'proposed': 600,\n",
       " 'potential': 601,\n",
       " 'gave': 602,\n",
       " 'needed': 603,\n",
       " 'credit': 604,\n",
       " 'led': 605,\n",
       " 'Africa': 606,\n",
       " 'industrial': 607,\n",
       " 'North': 608,\n",
       " 'latest': 609,\n",
       " 'whose': 610,\n",
       " 'groups': 611,\n",
       " 'weekend': 612,\n",
       " 'house': 613,\n",
       " 'soon': 614,\n",
       " 'However': 615,\n",
       " 'according': 616,\n",
       " '50': 617,\n",
       " 'programme': 618,\n",
       " 'won': 619,\n",
       " 'eight': 620,\n",
       " 'One': 621,\n",
       " 'consumer': 622,\n",
       " 'committee': 623,\n",
       " 'losses': 624,\n",
       " 'insurance': 625,\n",
       " 'brokers': 626,\n",
       " 'Analysts': 627,\n",
       " 'June': 628,\n",
       " 'commercial': 629,\n",
       " 'show': 630,\n",
       " 'changes': 631,\n",
       " 'ruling': 632,\n",
       " 'These': 633,\n",
       " 'previous': 634,\n",
       " 'issued': 635,\n",
       " 'project': 636,\n",
       " 'food': 637,\n",
       " 'competition': 638,\n",
       " 'plant': 639,\n",
       " 'run': 640,\n",
       " 'northern': 641,\n",
       " '/': 642,\n",
       " '1995': 643,\n",
       " 'released': 644,\n",
       " 'stake': 645,\n",
       " 'impact': 646,\n",
       " 'away': 647,\n",
       " 'looking': 648,\n",
       " 'coalition': 649,\n",
       " 'African': 650,\n",
       " 'real': 651,\n",
       " 'Co': 652,\n",
       " 'media': 653,\n",
       " 'Chinese': 654,\n",
       " 'side': 655,\n",
       " 'ministers': 656,\n",
       " 'problem': 657,\n",
       " 'currently': 658,\n",
       " 'session': 659,\n",
       " 'York': 660,\n",
       " 'Exchange': 661,\n",
       " 'hours': 662,\n",
       " 'Securities': 663,\n",
       " 'immediately': 664,\n",
       " 'West': 665,\n",
       " 'visit': 666,\n",
       " 'failed': 667,\n",
       " 'outside': 668,\n",
       " 'recently': 669,\n",
       " 'decided': 670,\n",
       " 'positive': 671,\n",
       " 'slightly': 672,\n",
       " 'Taiwan': 673,\n",
       " 'cuts': 674,\n",
       " 'federal': 675,\n",
       " 'army': 676,\n",
       " 'operation': 677,\n",
       " 'include': 678,\n",
       " 'interview': 679,\n",
       " 'forecast': 680,\n",
       " 'nine': 681,\n",
       " 'At': 682,\n",
       " 'tonnes': 683,\n",
       " 'saw': 684,\n",
       " \"'re\": 685,\n",
       " 'bill': 686,\n",
       " 'paper': 687,\n",
       " 'biggest': 688,\n",
       " 'banking': 689,\n",
       " 'That': 690,\n",
       " 'Traders': 691,\n",
       " 'rebels': 692,\n",
       " 'trying': 693,\n",
       " 'negotiations': 694,\n",
       " 'building': 695,\n",
       " 'call': 696,\n",
       " 'technology': 697,\n",
       " 'approved': 698,\n",
       " 'As': 699,\n",
       " 'below': 700,\n",
       " 'Foreign': 701,\n",
       " 'players': 702,\n",
       " 'regional': 703,\n",
       " 'enough': 704,\n",
       " 'source': 705,\n",
       " 'growing': 706,\n",
       " 'An': 707,\n",
       " 'special': 708,\n",
       " 'season': 709,\n",
       " 'across': 710,\n",
       " 'merger': 711,\n",
       " 'aid': 712,\n",
       " 'John': 713,\n",
       " 'reached': 714,\n",
       " 'southern': 715,\n",
       " 'air': 716,\n",
       " 'rules': 717,\n",
       " 'raise': 718,\n",
       " 'sold': 719,\n",
       " 'attack': 720,\n",
       " 'towards': 721,\n",
       " 'Council': 722,\n",
       " 'fiscal': 723,\n",
       " 'refugees': 724,\n",
       " 'began': 725,\n",
       " 'crude': 726,\n",
       " 'car': 727,\n",
       " 'majority': 728,\n",
       " 'risk': 729,\n",
       " 'Italy': 730,\n",
       " 'probably': 731,\n",
       " 'Finance': 732,\n",
       " 'activity': 733,\n",
       " 'Zaire': 734,\n",
       " 'lost': 735,\n",
       " 'town': 736,\n",
       " 'Iraqi': 737,\n",
       " 'boost': 738,\n",
       " 'prime': 739,\n",
       " 'Ministry': 740,\n",
       " '12': 741,\n",
       " 'defence': 742,\n",
       " 'wheat': 743,\n",
       " 'performance': 744,\n",
       " 'win': 745,\n",
       " 'securities': 746,\n",
       " 'fuel': 747,\n",
       " 'effect': 748,\n",
       " 'significant': 749,\n",
       " 'life': 750,\n",
       " 'holding': 751,\n",
       " 'corporate': 752,\n",
       " 'loss': 753,\n",
       " 'eastern': 754,\n",
       " 'mark': 755,\n",
       " 'free': 756,\n",
       " 'efforts': 757,\n",
       " 'legal': 758,\n",
       " 'House': 759,\n",
       " 'Labour': 760,\n",
       " 'Federal': 761,\n",
       " 'fighting': 762,\n",
       " 'behind': 763,\n",
       " 'assets': 764,\n",
       " 'best': 765,\n",
       " 'lot': 766,\n",
       " 'privatisation': 767,\n",
       " 'received': 768,\n",
       " 'here': 769,\n",
       " 'research': 770,\n",
       " 'presidential': 771,\n",
       " '25': 772,\n",
       " 'manager': 773,\n",
       " 'billions': 774,\n",
       " 'night': 775,\n",
       " 'face': 776,\n",
       " 'approval': 777,\n",
       " 'de': 778,\n",
       " 'almost': 779,\n",
       " 'however': 780,\n",
       " 'daily': 781,\n",
       " 'recovery': 782,\n",
       " 'started': 783,\n",
       " 'range': 784,\n",
       " 'accused': 785,\n",
       " 'look': 786,\n",
       " 'global': 787,\n",
       " 'proposal': 788,\n",
       " 'noted': 789,\n",
       " '100': 790,\n",
       " 'human': 791,\n",
       " 'thousands': 792,\n",
       " 'fourth': 793,\n",
       " 'wanted': 794,\n",
       " 'crisis': 795,\n",
       " 'target': 796,\n",
       " 'above': 797,\n",
       " 'telephone': 798,\n",
       " 'steady': 799,\n",
       " 'Dole': 800,\n",
       " 'March': 801,\n",
       " 'find': 802,\n",
       " 'role': 803,\n",
       " 'involved': 804,\n",
       " 'children': 805,\n",
       " 'customers': 806,\n",
       " 'opening': 807,\n",
       " '1994': 808,\n",
       " 'bring': 809,\n",
       " 'difficult': 810,\n",
       " 'account': 811,\n",
       " 'release': 812,\n",
       " 'reduce': 813,\n",
       " 'certain': 814,\n",
       " 'Singapore': 815,\n",
       " 'expectations': 816,\n",
       " 'retail': 817,\n",
       " 'dollars': 818,\n",
       " 'heavy': 819,\n",
       " 'rather': 820,\n",
       " 'allowed': 821,\n",
       " 'Central': 822,\n",
       " 'reform': 823,\n",
       " 'once': 824,\n",
       " 'capacity': 825,\n",
       " 'officer': 826,\n",
       " 'rally': 827,\n",
       " 'Internet': 828,\n",
       " 'others': 829,\n",
       " 'Canada': 830,\n",
       " 'projects': 831,\n",
       " 'commission': 832,\n",
       " 'With': 833,\n",
       " 'Western': 834,\n",
       " 'summit': 835,\n",
       " 'warned': 836,\n",
       " 'rule': 837,\n",
       " 'concern': 838,\n",
       " 'Palestinian': 839,\n",
       " 'helped': 840,\n",
       " 'compared': 841,\n",
       " 'view': 842,\n",
       " 'forward': 843,\n",
       " 'Congress': 844,\n",
       " 'Italian': 845,\n",
       " 'businesses': 846,\n",
       " 'property': 847,\n",
       " 'While': 848,\n",
       " 'sent': 849,\n",
       " 'wants': 850,\n",
       " 'overall': 851,\n",
       " 'stg': 852,\n",
       " 'along': 853,\n",
       " 'contracts': 854,\n",
       " 'Street': 855,\n",
       " 'taxes': 856,\n",
       " 'Asia': 857,\n",
       " 'Group': 858,\n",
       " 'confidence': 859,\n",
       " 'output': 860,\n",
       " 'amount': 861,\n",
       " 'State': 862,\n",
       " 'nearly': 863,\n",
       " 'imports': 864,\n",
       " 'raised': 865,\n",
       " 'cannot': 866,\n",
       " 'labour': 867,\n",
       " 'division': 868,\n",
       " 'construction': 869,\n",
       " 'scheduled': 870,\n",
       " 'improve': 871,\n",
       " 'positions': 872,\n",
       " 'May': 873,\n",
       " 'trend': 874,\n",
       " 'hard': 875,\n",
       " 'known': 876,\n",
       " 'stability': 877,\n",
       " 'know': 878,\n",
       " 'round': 879,\n",
       " 'offered': 880,\n",
       " '40': 881,\n",
       " 'progress': 882,\n",
       " 'having': 883,\n",
       " 'General': 884,\n",
       " 'Canadian': 885,\n",
       " 'jobs': 886,\n",
       " 'men': 887,\n",
       " 'denied': 888,\n",
       " 'energy': 889,\n",
       " 'rating': 890,\n",
       " 'expects': 891,\n",
       " 'Wall': 892,\n",
       " 'every': 893,\n",
       " 'met': 894,\n",
       " 'women': 895,\n",
       " 'Indian': 896,\n",
       " 'Netanyahu': 897,\n",
       " 'match': 898,\n",
       " 'Swiss': 899,\n",
       " 'forced': 900,\n",
       " 'Department': 901,\n",
       " 'try': 902,\n",
       " 'revenues': 903,\n",
       " 'present': 904,\n",
       " 'aimed': 905,\n",
       " 'especially': 906,\n",
       " 'offering': 907,\n",
       " 'particularly': 908,\n",
       " 'access': 909,\n",
       " 'hope': 910,\n",
       " 'America': 911,\n",
       " 'independent': 912,\n",
       " 'specified': 913,\n",
       " 'seeking': 914,\n",
       " 'policies': 915,\n",
       " 'equipment': 916,\n",
       " 'rising': 917,\n",
       " 'volume': 918,\n",
       " 'believed': 919,\n",
       " 'goods': 920,\n",
       " 'existing': 921,\n",
       " 'balance': 922,\n",
       " 'poor': 923,\n",
       " 'form': 924,\n",
       " 'caused': 925,\n",
       " 'appeared': 926,\n",
       " 'relations': 927,\n",
       " 'needs': 928,\n",
       " 'drop': 929,\n",
       " 'charge': 930,\n",
       " 'base': 931,\n",
       " 'cabinet': 932,\n",
       " 'lack': 933,\n",
       " 'debate': 934,\n",
       " 'Gulf': 935,\n",
       " 'discuss': 936,\n",
       " 'trial': 937,\n",
       " 'question': 938,\n",
       " 'U.N.': 939,\n",
       " 'done': 940,\n",
       " 'weak': 941,\n",
       " 'supplies': 942,\n",
       " 'included': 943,\n",
       " 'radio': 944,\n",
       " 'launched': 945,\n",
       " 'join': 946,\n",
       " 'long-term': 947,\n",
       " 'mainly': 948,\n",
       " 'Beijing': 949,\n",
       " 'heart': 950,\n",
       " '&': 951,\n",
       " 'survey': 952,\n",
       " 'limited': 953,\n",
       " 'After': 954,\n",
       " 'job': 955,\n",
       " 'bourse': 956,\n",
       " 'Reserve': 957,\n",
       " 'went': 958,\n",
       " 'network': 959,\n",
       " 'man': 960,\n",
       " 'brought': 961,\n",
       " 'Taleban': 962,\n",
       " 'water': 963,\n",
       " 'fire': 964,\n",
       " 'remains': 965,\n",
       " 'using': 966,\n",
       " 'date': 967,\n",
       " 'strength': 968,\n",
       " 'sharply': 969,\n",
       " 'north': 970,\n",
       " 'longer': 971,\n",
       " 'light': 972,\n",
       " 'decline': 973,\n",
       " 'serious': 974,\n",
       " 'Mexico': 975,\n",
       " 'though': 976,\n",
       " 'Dealers': 977,\n",
       " 'centre': 978,\n",
       " 'focus': 979,\n",
       " 'sign': 980,\n",
       " 'Moscow': 981,\n",
       " 'series': 982,\n",
       " 'computer': 983,\n",
       " 'All': 984,\n",
       " 'drug': 985,\n",
       " 'afternoon': 986,\n",
       " 'times': 987,\n",
       " 'Zealand': 988,\n",
       " 'step': 989,\n",
       " 'Paris': 990,\n",
       " 'either': 991,\n",
       " 'ensure': 992,\n",
       " 'She': 993,\n",
       " 'additional': 994,\n",
       " 'acquisition': 995,\n",
       " 'means': 996,\n",
       " 'expansion': 997,\n",
       " 'economist': 998,\n",
       " 'got': 999,\n",
       " ...}"
      ]
     },
     "execution_count": 10,
     "metadata": {},
     "output_type": "execute_result"
    }
   ],
   "source": [
    "word2id"
   ]
  },
  {
   "cell_type": "code",
   "execution_count": 15,
   "metadata": {},
   "outputs": [
    {
     "data": {
      "text/plain": [
       "torch.Size([246123, 50])"
      ]
     },
     "execution_count": 15,
     "metadata": {},
     "output_type": "execute_result"
    }
   ],
   "source": [
    "word_vec.shape"
   ]
  },
  {
   "cell_type": "markdown",
   "metadata": {},
   "source": [
    "### 4.2.2 关系标签读取"
   ]
  },
  {
   "cell_type": "code",
   "execution_count": 16,
   "metadata": {},
   "outputs": [],
   "source": [
    "class RelationLoader(object):\n",
    "    def __init__(self, config):\n",
    "        self.data_dir = config.data_dir\n",
    "\n",
    "    def __load_relation(self):\n",
    "        relation_file = os.path.join(self.data_dir, 'relation2id.txt')\n",
    "        rel2id = {}\n",
    "        id2rel = {}\n",
    "        with open(relation_file, 'r', encoding='utf-8') as fr:\n",
    "            for line in fr:\n",
    "                relation, id_s = line.strip().split()\n",
    "                id_d = int(id_s)\n",
    "                rel2id[relation] = id_d\n",
    "                id2rel[id_d] = relation\n",
    "        return rel2id, id2rel, len(rel2id)\n",
    "\n",
    "    def get_relation(self):\n",
    "        return self.__load_relation()"
   ]
  },
  {
   "cell_type": "code",
   "execution_count": 22,
   "metadata": {},
   "outputs": [],
   "source": [
    "f_rel2id = open(os.path.join(config.data_dir, 'relation2id.txt'), 'r')"
   ]
  },
  {
   "cell_type": "code",
   "execution_count": 24,
   "metadata": {},
   "outputs": [
    {
     "data": {
      "text/plain": [
       "['Cause-Effect(e1,e2)\\t1\\n',\n",
       " 'Cause-Effect(e2,e1)\\t2\\n',\n",
       " 'Component-Whole(e1,e2)\\t3\\n',\n",
       " 'Component-Whole(e2,e1)\\t4\\n',\n",
       " 'Content-Container(e1,e2)\\t5\\n',\n",
       " 'Content-Container(e2,e1)\\t6\\n',\n",
       " 'Entity-Destination(e1,e2)\\t7\\n',\n",
       " 'Entity-Destination(e2,e1)\\t8\\n',\n",
       " 'Entity-Origin(e1,e2)\\t9\\n',\n",
       " 'Entity-Origin(e2,e1)\\t10\\n',\n",
       " 'Instrument-Agency(e1,e2)\\t11\\n',\n",
       " 'Instrument-Agency(e2,e1)\\t12\\n',\n",
       " 'Member-Collection(e1,e2)\\t13\\n',\n",
       " 'Member-Collection(e2,e1)\\t14\\n',\n",
       " 'Message-Topic(e1,e2)\\t15\\n',\n",
       " 'Message-Topic(e2,e1)\\t16\\n',\n",
       " 'Product-Producer(e1,e2)\\t17\\n',\n",
       " 'Product-Producer(e2,e1)\\t18\\n']"
      ]
     },
     "execution_count": 24,
     "metadata": {},
     "output_type": "execute_result"
    }
   ],
   "source": [
    "f_rel2id.readlines()"
   ]
  },
  {
   "cell_type": "code",
   "execution_count": 17,
   "metadata": {},
   "outputs": [],
   "source": [
    "rel2id, id2rel, class_num = RelationLoader(config).get_relation()"
   ]
  },
  {
   "cell_type": "code",
   "execution_count": 25,
   "metadata": {},
   "outputs": [
    {
     "data": {
      "text/plain": [
       "{'Other': 0,\n",
       " 'Cause-Effect(e1,e2)': 1,\n",
       " 'Cause-Effect(e2,e1)': 2,\n",
       " 'Component-Whole(e1,e2)': 3,\n",
       " 'Component-Whole(e2,e1)': 4,\n",
       " 'Content-Container(e1,e2)': 5,\n",
       " 'Content-Container(e2,e1)': 6,\n",
       " 'Entity-Destination(e1,e2)': 7,\n",
       " 'Entity-Destination(e2,e1)': 8,\n",
       " 'Entity-Origin(e1,e2)': 9,\n",
       " 'Entity-Origin(e2,e1)': 10,\n",
       " 'Instrument-Agency(e1,e2)': 11,\n",
       " 'Instrument-Agency(e2,e1)': 12,\n",
       " 'Member-Collection(e1,e2)': 13,\n",
       " 'Member-Collection(e2,e1)': 14,\n",
       " 'Message-Topic(e1,e2)': 15,\n",
       " 'Message-Topic(e2,e1)': 16,\n",
       " 'Product-Producer(e1,e2)': 17,\n",
       " 'Product-Producer(e2,e1)': 18}"
      ]
     },
     "execution_count": 25,
     "metadata": {},
     "output_type": "execute_result"
    }
   ],
   "source": [
    "rel2id"
   ]
  },
  {
   "cell_type": "code",
   "execution_count": 28,
   "metadata": {},
   "outputs": [
    {
     "data": {
      "text/plain": [
       "{0: 'Other',\n",
       " 1: 'Cause-Effect(e1,e2)',\n",
       " 2: 'Cause-Effect(e2,e1)',\n",
       " 3: 'Component-Whole(e1,e2)',\n",
       " 4: 'Component-Whole(e2,e1)',\n",
       " 5: 'Content-Container(e1,e2)',\n",
       " 6: 'Content-Container(e2,e1)',\n",
       " 7: 'Entity-Destination(e1,e2)',\n",
       " 8: 'Entity-Destination(e2,e1)',\n",
       " 9: 'Entity-Origin(e1,e2)',\n",
       " 10: 'Entity-Origin(e2,e1)',\n",
       " 11: 'Instrument-Agency(e1,e2)',\n",
       " 12: 'Instrument-Agency(e2,e1)',\n",
       " 13: 'Member-Collection(e1,e2)',\n",
       " 14: 'Member-Collection(e2,e1)',\n",
       " 15: 'Message-Topic(e1,e2)',\n",
       " 16: 'Message-Topic(e2,e1)',\n",
       " 17: 'Product-Producer(e1,e2)',\n",
       " 18: 'Product-Producer(e2,e1)'}"
      ]
     },
     "execution_count": 28,
     "metadata": {},
     "output_type": "execute_result"
    }
   ],
   "source": [
    "id2rel"
   ]
  },
  {
   "cell_type": "code",
   "execution_count": 29,
   "metadata": {},
   "outputs": [
    {
     "data": {
      "text/plain": [
       "19"
      ]
     },
     "execution_count": 29,
     "metadata": {},
     "output_type": "execute_result"
    }
   ],
   "source": [
    "class_num"
   ]
  },
  {
   "cell_type": "markdown",
   "metadata": {},
   "source": [
    "## 4.3 数据预处理\n",
    "* 获取原始数据\n",
    "* 处理为输入数据\n",
    "* 将上述方式构建为类"
   ]
  },
  {
   "cell_type": "markdown",
   "metadata": {},
   "source": [
    "### 4.3.1 获取原始数据"
   ]
  },
  {
   "cell_type": "code",
   "execution_count": 69,
   "metadata": {},
   "outputs": [],
   "source": [
    "f_train = open(config.data_dir + '/train.json', 'r', encoding='utf-8')"
   ]
  },
  {
   "cell_type": "code",
   "execution_count": 70,
   "metadata": {},
   "outputs": [],
   "source": [
    "train_raw = []\n",
    "for line in f_train:\n",
    "    train_raw += [json.loads(line.strip())]"
   ]
  },
  {
   "cell_type": "code",
   "execution_count": 73,
   "metadata": {},
   "outputs": [
    {
     "data": {
      "text/plain": [
       "8000"
      ]
     },
     "execution_count": 73,
     "metadata": {},
     "output_type": "execute_result"
    }
   ],
   "source": [
    "len(train_raw)"
   ]
  },
  {
   "cell_type": "code",
   "execution_count": 76,
   "metadata": {},
   "outputs": [
    {
     "data": {
      "text/plain": [
       "dict_keys(['id', 'relation', 'head', 'tail', 'subj_start', 'subj_end', 'obj_start', 'obj_end', 'sentence', 'comment'])"
      ]
     },
     "execution_count": 76,
     "metadata": {},
     "output_type": "execute_result"
    }
   ],
   "source": [
    "train_raw[0].keys()"
   ]
  },
  {
   "cell_type": "code",
   "execution_count": 75,
   "metadata": {
    "scrolled": true
   },
   "outputs": [
    {
     "data": {
      "text/plain": [
       "{'id': '1',\n",
       " 'relation': 'Component-Whole(e2,e1)',\n",
       " 'head': 'configuration',\n",
       " 'tail': 'elements',\n",
       " 'subj_start': 12,\n",
       " 'subj_end': 12,\n",
       " 'obj_start': 15,\n",
       " 'obj_end': 15,\n",
       " 'sentence': ['The',\n",
       "  'system',\n",
       "  'as',\n",
       "  'described',\n",
       "  'above',\n",
       "  'has',\n",
       "  'its',\n",
       "  'greatest',\n",
       "  'application',\n",
       "  'in',\n",
       "  'an',\n",
       "  'arrayed',\n",
       "  'configuration',\n",
       "  'of',\n",
       "  'antenna',\n",
       "  'elements',\n",
       "  '.'],\n",
       " 'comment': ' Not a collection: there is structure here, organisation.'}"
      ]
     },
     "execution_count": 75,
     "metadata": {},
     "output_type": "execute_result"
    }
   ],
   "source": [
    "train_raw[0]"
   ]
  },
  {
   "cell_type": "code",
   "execution_count": 77,
   "metadata": {},
   "outputs": [
    {
     "data": {
      "text/plain": [
       "dict_keys(['id', 'relation', 'head', 'tail', 'subj_start', 'subj_end', 'obj_start', 'obj_end', 'sentence', 'comment'])"
      ]
     },
     "execution_count": 77,
     "metadata": {},
     "output_type": "execute_result"
    }
   ],
   "source": [
    "train_raw[0].keys()"
   ]
  },
  {
   "cell_type": "code",
   "execution_count": 79,
   "metadata": {},
   "outputs": [],
   "source": [
    "line = train_raw[0]"
   ]
  },
  {
   "cell_type": "code",
   "execution_count": 80,
   "metadata": {},
   "outputs": [],
   "source": [
    "label = line['relation']\n",
    "sentence = line['sentence']\n",
    "e1_pos = (line['subj_start'], line['subj_end'])\n",
    "e2_pos = (line['obj_start'], line['obj_end'])\n",
    "label_idx = rel2id[label]"
   ]
  },
  {
   "cell_type": "code",
   "execution_count": 82,
   "metadata": {},
   "outputs": [
    {
     "data": {
      "text/plain": [
       "'Component-Whole(e2,e1)'"
      ]
     },
     "execution_count": 82,
     "metadata": {},
     "output_type": "execute_result"
    }
   ],
   "source": [
    "label"
   ]
  },
  {
   "cell_type": "code",
   "execution_count": 85,
   "metadata": {},
   "outputs": [
    {
     "data": {
      "text/plain": [
       "4"
      ]
     },
     "execution_count": 85,
     "metadata": {},
     "output_type": "execute_result"
    }
   ],
   "source": [
    "label_idx"
   ]
  },
  {
   "cell_type": "markdown",
   "metadata": {},
   "source": [
    "### 4.3.2  处理为输入数据 （处理为输入数据）"
   ]
  },
  {
   "cell_type": "code",
   "execution_count": 86,
   "metadata": {},
   "outputs": [],
   "source": [
    "mask = [1] * len(sentence)"
   ]
  },
  {
   "cell_type": "code",
   "execution_count": 87,
   "metadata": {},
   "outputs": [
    {
     "data": {
      "text/plain": [
       "[1, 1, 1, 1, 1, 1, 1, 1, 1, 1, 1, 1, 1, 1, 1, 1, 1]"
      ]
     },
     "execution_count": 87,
     "metadata": {},
     "output_type": "execute_result"
    }
   ],
   "source": [
    "mask"
   ]
  },
  {
   "cell_type": "code",
   "execution_count": 90,
   "metadata": {},
   "outputs": [
    {
     "data": {
      "text/plain": [
       "(12, 12)"
      ]
     },
     "execution_count": 90,
     "metadata": {},
     "output_type": "execute_result"
    }
   ],
   "source": [
    "e1_pos"
   ]
  },
  {
   "cell_type": "code",
   "execution_count": 91,
   "metadata": {},
   "outputs": [
    {
     "data": {
      "text/plain": [
       "(15, 15)"
      ]
     },
     "execution_count": 91,
     "metadata": {},
     "output_type": "execute_result"
    }
   ],
   "source": [
    "e2_pos"
   ]
  },
  {
   "cell_type": "code",
   "execution_count": 88,
   "metadata": {},
   "outputs": [],
   "source": [
    "if e1_pos[0] < e2_pos[0]:\n",
    "    for i in range(e1_pos[0], e2_pos[1]+1):\n",
    "        mask[i] = 2\n",
    "    for i in range(e2_pos[1]+1, len(sentence)):\n",
    "        mask[i] = 3\n",
    "else:\n",
    "    for i in range(e2_pos[0], e1_pos[1]+1):\n",
    "        mask[i] = 2\n",
    "    for i in range(e1_pos[1]+1, len(sentence)):\n",
    "        mask[i] = 3"
   ]
  },
  {
   "cell_type": "code",
   "execution_count": 89,
   "metadata": {},
   "outputs": [
    {
     "data": {
      "text/plain": [
       "[1, 1, 1, 1, 1, 1, 1, 1, 1, 1, 1, 1, 2, 2, 2, 2, 3]"
      ]
     },
     "execution_count": 89,
     "metadata": {},
     "output_type": "execute_result"
    }
   ],
   "source": [
    "mask"
   ]
  },
  {
   "cell_type": "code",
   "execution_count": 128,
   "metadata": {},
   "outputs": [],
   "source": [
    "words = []\n",
    "pos1 = []\n",
    "pos2 = []\n",
    "length = min(config.max_len, len(sentence))\n",
    "mask = mask[:length]"
   ]
  },
  {
   "cell_type": "code",
   "execution_count": 95,
   "metadata": {},
   "outputs": [
    {
     "data": {
      "text/plain": [
       "100"
      ]
     },
     "execution_count": 95,
     "metadata": {},
     "output_type": "execute_result"
    }
   ],
   "source": [
    "config.max_len"
   ]
  },
  {
   "cell_type": "code",
   "execution_count": 96,
   "metadata": {},
   "outputs": [
    {
     "data": {
      "text/plain": [
       "17"
      ]
     },
     "execution_count": 96,
     "metadata": {},
     "output_type": "execute_result"
    }
   ],
   "source": [
    "len(sentence)"
   ]
  },
  {
   "cell_type": "code",
   "execution_count": 108,
   "metadata": {},
   "outputs": [],
   "source": [
    "words.append(word2id.get(sentence[0].lower(), word2id['*UNKNOWN*']))"
   ]
  },
  {
   "cell_type": "code",
   "execution_count": 109,
   "metadata": {},
   "outputs": [
    {
     "data": {
      "text/plain": [
       "[2]"
      ]
     },
     "execution_count": 109,
     "metadata": {},
     "output_type": "execute_result"
    }
   ],
   "source": [
    "words"
   ]
  },
  {
   "cell_type": "code",
   "execution_count": 110,
   "metadata": {},
   "outputs": [
    {
     "data": {
      "text/plain": [
       "50"
      ]
     },
     "execution_count": 110,
     "metadata": {},
     "output_type": "execute_result"
    }
   ],
   "source": [
    "config.pos_dis"
   ]
  },
  {
   "cell_type": "code",
   "execution_count": 116,
   "metadata": {},
   "outputs": [],
   "source": [
    "def __get_pos_index(x):\n",
    "    if x < -config.pos_dis:\n",
    "        return 0\n",
    "    if x >= -config.pos_dis and x <= config.pos_dis:\n",
    "        return x + config.pos_dis + 1\n",
    "    if x > config.pos_dis:\n",
    "        return 2 * config.pos_dis + 2"
   ]
  },
  {
   "cell_type": "code",
   "execution_count": 117,
   "metadata": {},
   "outputs": [],
   "source": [
    "def __get_relative_pos(x, entity_pos):\n",
    "    if x < entity_pos[0]:\n",
    "        return __get_pos_index(x-entity_pos[0])\n",
    "    elif x > entity_pos[1]:\n",
    "        return __get_pos_index(x-entity_pos[1])\n",
    "    else:\n",
    "        return __get_pos_index(0)"
   ]
  },
  {
   "cell_type": "code",
   "execution_count": 118,
   "metadata": {},
   "outputs": [
    {
     "data": {
      "text/plain": [
       "(12, 12)"
      ]
     },
     "execution_count": 118,
     "metadata": {},
     "output_type": "execute_result"
    }
   ],
   "source": [
    "e1_pos"
   ]
  },
  {
   "cell_type": "code",
   "execution_count": 125,
   "metadata": {
    "scrolled": true
   },
   "outputs": [
    {
     "data": {
      "text/plain": [
       "[39, 39, 51, 53]"
      ]
     },
     "execution_count": 125,
     "metadata": {},
     "output_type": "execute_result"
    }
   ],
   "source": [
    "pos1.append(__get_relative_pos(14, e1_pos))\n",
    "pos1"
   ]
  },
  {
   "cell_type": "code",
   "execution_count": 127,
   "metadata": {},
   "outputs": [
    {
     "data": {
      "text/plain": [
       "[36, 36]"
      ]
     },
     "execution_count": 127,
     "metadata": {},
     "output_type": "execute_result"
    }
   ],
   "source": [
    "pos2.append(__get_relative_pos(0, e2_pos))\n",
    "pos2"
   ]
  },
  {
   "cell_type": "code",
   "execution_count": 130,
   "metadata": {},
   "outputs": [],
   "source": [
    "# 对整个句子进行处理\n",
    "for i in range(length):\n",
    "    words.append(word2id.get(sentence[i].lower(), word2id['*UNKNOWN*']))\n",
    "    pos1.append(__get_relative_pos(i, e1_pos))\n",
    "    pos2.append(__get_relative_pos(i, e2_pos))"
   ]
  },
  {
   "cell_type": "code",
   "execution_count": 132,
   "metadata": {},
   "outputs": [
    {
     "data": {
      "text/plain": [
       "[39, 40, 41, 42, 43, 44, 45, 46, 47, 48, 49, 50, 51, 52, 53, 54, 55]"
      ]
     },
     "execution_count": 132,
     "metadata": {},
     "output_type": "execute_result"
    }
   ],
   "source": [
    "pos1"
   ]
  },
  {
   "cell_type": "code",
   "execution_count": 134,
   "metadata": {},
   "outputs": [],
   "source": [
    "# padding\n",
    "if length < config.max_len:\n",
    "    for i in range(length, config.max_len):\n",
    "        mask.append(0)  # 'PAD' mask is zero\n",
    "        words.append(word2id['PAD'])\n",
    "\n",
    "        pos1.append(__get_relative_pos(i, e1_pos))\n",
    "        pos2.append(__get_relative_pos(i, e2_pos))"
   ]
  },
  {
   "cell_type": "code",
   "execution_count": 137,
   "metadata": {},
   "outputs": [
    {
     "data": {
      "text/plain": [
       "100"
      ]
     },
     "execution_count": 137,
     "metadata": {},
     "output_type": "execute_result"
    }
   ],
   "source": [
    "len(words)"
   ]
  },
  {
   "cell_type": "code",
   "execution_count": 138,
   "metadata": {},
   "outputs": [
    {
     "data": {
      "text/plain": [
       "array([[    2,   249,    23,  1615,   797,    27,    31,  4434,  2695,\n",
       "            7,    34, 70021, 20173,     6, 41589,  3813,     3,     0,\n",
       "            0,     0,     0,     0,     0,     0,     0,     0,     0,\n",
       "            0,     0,     0,     0,     0,     0,     0,     0,     0,\n",
       "            0,     0,     0,     0,     0,     0,     0,     0,     0,\n",
       "            0,     0,     0,     0,     0,     0,     0,     0,     0,\n",
       "            0,     0,     0,     0,     0,     0,     0,     0,     0,\n",
       "            0,     0,     0,     0,     0,     0,     0,     0,     0,\n",
       "            0,     0,     0,     0,     0,     0,     0,     0,     0,\n",
       "            0,     0,     0,     0,     0,     0,     0,     0,     0,\n",
       "            0,     0,     0,     0,     0,     0,     0,     0,     0,\n",
       "            0],\n",
       "       [   39,    40,    41,    42,    43,    44,    45,    46,    47,\n",
       "           48,    49,    50,    51,    52,    53,    54,    55,    56,\n",
       "           57,    58,    59,    60,    61,    62,    63,    64,    65,\n",
       "           66,    67,    68,    69,    70,    71,    72,    73,    74,\n",
       "           75,    76,    77,    78,    79,    80,    81,    82,    83,\n",
       "           84,    85,    86,    87,    88,    89,    90,    91,    92,\n",
       "           93,    94,    95,    96,    97,    98,    99,   100,   101,\n",
       "          102,   102,   102,   102,   102,   102,   102,   102,   102,\n",
       "          102,   102,   102,   102,   102,   102,   102,   102,   102,\n",
       "          102,   102,   102,   102,   102,   102,   102,   102,   102,\n",
       "          102,   102,   102,   102,   102,   102,   102,   102,   102,\n",
       "          102],\n",
       "       [   36,    37,    38,    39,    40,    41,    42,    43,    44,\n",
       "           45,    46,    47,    48,    49,    50,    51,    52,    53,\n",
       "           54,    55,    56,    57,    58,    59,    60,    61,    62,\n",
       "           63,    64,    65,    66,    67,    68,    69,    70,    71,\n",
       "           72,    73,    74,    75,    76,    77,    78,    79,    80,\n",
       "           81,    82,    83,    84,    85,    86,    87,    88,    89,\n",
       "           90,    91,    92,    93,    94,    95,    96,    97,    98,\n",
       "           99,   100,   101,   102,   102,   102,   102,   102,   102,\n",
       "          102,   102,   102,   102,   102,   102,   102,   102,   102,\n",
       "          102,   102,   102,   102,   102,   102,   102,   102,   102,\n",
       "          102,   102,   102,   102,   102,   102,   102,   102,   102,\n",
       "          102],\n",
       "       [    1,     1,     1,     1,     1,     1,     1,     1,     1,\n",
       "            1,     1,     1,     2,     2,     2,     2,     3,     0,\n",
       "            0,     0,     0,     0,     0,     0,     0,     0,     0,\n",
       "            0,     0,     0,     0,     0,     0,     0,     0,     0,\n",
       "            0,     0,     0,     0,     0,     0,     0,     0,     0,\n",
       "            0,     0,     0,     0,     0,     0,     0,     0,     0,\n",
       "            0,     0,     0,     0,     0,     0,     0,     0,     0,\n",
       "            0,     0,     0,     0,     0,     0,     0,     0,     0,\n",
       "            0,     0,     0,     0,     0,     0,     0,     0,     0,\n",
       "            0,     0,     0,     0,     0,     0,     0,     0,     0,\n",
       "            0,     0,     0,     0,     0,     0,     0,     0,     0,\n",
       "            0]])"
      ]
     },
     "execution_count": 138,
     "metadata": {},
     "output_type": "execute_result"
    }
   ],
   "source": [
    "unit = np.asarray([words, pos1, pos2, mask], dtype=np.int64)\n",
    "unit"
   ]
  },
  {
   "cell_type": "code",
   "execution_count": 139,
   "metadata": {},
   "outputs": [
    {
     "data": {
      "text/plain": [
       "(4, 100)"
      ]
     },
     "execution_count": 139,
     "metadata": {},
     "output_type": "execute_result"
    }
   ],
   "source": [
    "unit.shape"
   ]
  },
  {
   "cell_type": "code",
   "execution_count": 141,
   "metadata": {},
   "outputs": [
    {
     "data": {
      "text/plain": [
       "(1, 4, 100)"
      ]
     },
     "execution_count": 141,
     "metadata": {},
     "output_type": "execute_result"
    }
   ],
   "source": [
    "unit = np.reshape(unit, newshape=(1, 4, config.max_len))\n",
    "unit.shape"
   ]
  },
  {
   "cell_type": "markdown",
   "metadata": {},
   "source": [
    "### 4.3.3 将上述功能构建为类\n",
    "* 将相似类型的功能整合到一个类里，使代码结构更清晰，并且方面以后调佣，且有利于debug"
   ]
  },
  {
   "cell_type": "markdown",
   "metadata": {},
   "source": [
    "<img src=\"./imgs/data_loader_flow_1.png\"  width=\"700\" height=\"700\" align=\"bottom\" />"
   ]
  },
  {
   "cell_type": "code",
   "execution_count": 142,
   "metadata": {},
   "outputs": [],
   "source": [
    "class SemEvalDateset(Dataset):\n",
    "    def __init__(self, filename, rel2id, word2id, config):\n",
    "        self.filename = filename\n",
    "        self.rel2id = rel2id\n",
    "        self.word2id = word2id\n",
    "        self.max_len = config.max_len\n",
    "        self.pos_dis = config.pos_dis\n",
    "        self.data_dir = config.data_dir\n",
    "        self.dataset, self.label = self.__load_data()\n",
    "\n",
    "    def __get_pos_index(self, x):\n",
    "        if x < -self.pos_dis:\n",
    "            return 0\n",
    "        if x >= -self.pos_dis and x <= self.pos_dis:\n",
    "            return x + self.pos_dis + 1\n",
    "        if x > self.pos_dis:\n",
    "            return 2 * self.pos_dis + 2\n",
    "\n",
    "    def __get_relative_pos(self, x, entity_pos):\n",
    "        if x < entity_pos[0]:\n",
    "            return self.__get_pos_index(x-entity_pos[0])\n",
    "        elif x > entity_pos[1]:\n",
    "            return self.__get_pos_index(x-entity_pos[1])\n",
    "        else:\n",
    "            return self.__get_pos_index(0)\n",
    "\n",
    "    def __symbolize_sentence(self, e1_pos, e2_pos, sentence):\n",
    "        \"\"\"\n",
    "            Args:\n",
    "                e1_pos (tuple) span of e1\n",
    "                e2_pos (tuple) span of e2\n",
    "                sentence (list)\n",
    "        \"\"\"\n",
    "        mask = [1] * len(sentence)\n",
    "        if e1_pos[0] < e2_pos[0]:\n",
    "            for i in range(e1_pos[0], e2_pos[1]+1):\n",
    "                mask[i] = 2\n",
    "            for i in range(e2_pos[1]+1, len(sentence)):\n",
    "                mask[i] = 3\n",
    "        else:\n",
    "            for i in range(e2_pos[0], e1_pos[1]+1):\n",
    "                mask[i] = 2\n",
    "            for i in range(e1_pos[1]+1, len(sentence)):\n",
    "                mask[i] = 3\n",
    "\n",
    "        words = []\n",
    "        pos1 = []\n",
    "        pos2 = []\n",
    "        length = min(self.max_len, len(sentence))\n",
    "        mask = mask[:length]\n",
    "\n",
    "        for i in range(length):\n",
    "            words.append(self.word2id.get(sentence[i].lower(), self.word2id['*UNKNOWN*']))\n",
    "            pos1.append(self.__get_relative_pos(i, e1_pos))\n",
    "            pos2.append(self.__get_relative_pos(i, e2_pos))\n",
    "\n",
    "        if length < self.max_len:\n",
    "            for i in range(length, self.max_len):\n",
    "                mask.append(0)  # 'PAD' mask is zero\n",
    "                words.append(self.word2id['PAD'])\n",
    "\n",
    "                pos1.append(self.__get_relative_pos(i, e1_pos))\n",
    "                pos2.append(self.__get_relative_pos(i, e2_pos))\n",
    "        unit = np.asarray([words, pos1, pos2, mask], dtype=np.int64)\n",
    "        unit = np.reshape(unit, newshape=(1, 4, self.max_len))\n",
    "        return unit\n",
    "\n",
    "    def __load_data(self):\n",
    "        path_data_file = os.path.join(self.data_dir, self.filename)\n",
    "        data = []\n",
    "        labels = []\n",
    "        with open(path_data_file, 'r', encoding='utf-8') as fr:\n",
    "            for line in fr:\n",
    "                line = json.loads(line.strip())\n",
    "                label = line['relation']\n",
    "                sentence = line['sentence']\n",
    "                e1_pos = (line['subj_start'], line['subj_end'])\n",
    "                e2_pos = (line['obj_start'], line['obj_end'])\n",
    "                label_idx = self.rel2id[label]\n",
    "\n",
    "                one_sentence = self.__symbolize_sentence(e1_pos, e2_pos, sentence)\n",
    "                data.append(one_sentence)\n",
    "                labels.append(label_idx)\n",
    "        return data, labels\n",
    "\n",
    "    def __getitem__(self, index):\n",
    "        data = self.dataset[index]\n",
    "        label = self.label[index]\n",
    "        return data, label\n",
    "\n",
    "    def __len__(self):\n",
    "        return len(self.label)"
   ]
  },
  {
   "cell_type": "code",
   "execution_count": 144,
   "metadata": {},
   "outputs": [],
   "source": [
    "class SemEvalDataLoader(object):\n",
    "    def __init__(self, rel2id, word2id, config):\n",
    "        self.rel2id = rel2id\n",
    "        self.word2id = word2id\n",
    "        self.config = config\n",
    "\n",
    "    def __collate_fn(self, batch):\n",
    "        data, label = zip(*batch)  # unzip the batch data\n",
    "        data = list(data)\n",
    "        label = list(label)\n",
    "        data = torch.from_numpy(np.concatenate(data, axis=0))\n",
    "        label = torch.from_numpy(np.asarray(label, dtype=np.int64))\n",
    "        return data, label\n",
    "\n",
    "    def __get_data(self, filename, shuffle=False):\n",
    "        dataset = SemEvalDateset(filename, self.rel2id, self.word2id, self.config)\n",
    "        loader = DataLoader(\n",
    "            dataset=dataset,\n",
    "            batch_size=self.config.batch_size,\n",
    "            shuffle=shuffle,\n",
    "            num_workers=2,    # num_workers 多进程处理数据 0 表示不使用多进程\n",
    "            collate_fn=self.__collate_fn  # 该函数将batch_size个样本合并成一个batch\n",
    "        )\n",
    "        return loader\n",
    "\n",
    "    def get_train(self):\n",
    "        return self.__get_data('train.json', shuffle=True)\n",
    "\n",
    "    def get_dev(self):\n",
    "        return self.__get_data('test.json', shuffle=False)\n",
    "\n",
    "    def get_test(self):\n",
    "        return self.__get_data('test.json', shuffle=False)"
   ]
  },
  {
   "cell_type": "code",
   "execution_count": 145,
   "metadata": {},
   "outputs": [],
   "source": [
    "loader = SemEvalDataLoader(rel2id, word2id, config)\n",
    "\n",
    "train_loader, dev_loader = None, None\n",
    "if config.mode == 1:  # train mode\n",
    "    train_loader = loader.get_train()\n",
    "    dev_loader = loader.get_dev()\n",
    "test_loader = loader.get_test()\n",
    "loader = [train_loader, dev_loader, test_loader]"
   ]
  },
  {
   "cell_type": "code",
   "execution_count": 146,
   "metadata": {},
   "outputs": [],
   "source": [
    "train_data = [item for item in train_loader]"
   ]
  },
  {
   "cell_type": "code",
   "execution_count": 147,
   "metadata": {},
   "outputs": [
    {
     "data": {
      "text/plain": [
       "63"
      ]
     },
     "execution_count": 147,
     "metadata": {},
     "output_type": "execute_result"
    }
   ],
   "source": [
    "len(train_data)"
   ]
  },
  {
   "cell_type": "code",
   "execution_count": 149,
   "metadata": {},
   "outputs": [
    {
     "data": {
      "text/plain": [
       "(tensor([[[    2,  3588,  4340,  ...,     0,     0,     0],\n",
       "          [   49,    50,    51,  ...,   102,   102,   102],\n",
       "          [   45,    46,    47,  ...,   102,   102,   102],\n",
       "          [    1,     1,     2,  ...,     0,     0,     0]],\n",
       " \n",
       "         [[    2,   352,  1878,  ...,     0,     0,     0],\n",
       "          [   46,    47,    48,  ...,   102,   102,   102],\n",
       "          [   43,    44,    45,  ...,   102,   102,   102],\n",
       "          [    1,     1,     1,  ...,     0,     0,     0]],\n",
       " \n",
       "         [[53981,   347, 52619,  ...,     0,     0,     0],\n",
       "          [   51,    52,    53,  ...,   102,   102,   102],\n",
       "          [   49,    50,    51,  ...,   102,   102,   102],\n",
       "          [    2,     2,     2,  ...,     0,     0,     0]],\n",
       " \n",
       "         ...,\n",
       " \n",
       "         [[89333,     1, 12212,  ...,     0,     0,     0],\n",
       "          [   41,    42,    43,  ...,   102,   102,   102],\n",
       "          [   38,    39,    40,  ...,   102,   102,   102],\n",
       "          [    1,     1,     1,  ...,     0,     0,     0]],\n",
       " \n",
       "         [[    7,     8,  2251,  ...,     0,     0,     0],\n",
       "          [   43,    44,    45,  ...,   102,   102,   102],\n",
       "          [   41,    42,    43,  ...,   102,   102,   102],\n",
       "          [    1,     1,     1,  ...,     0,     0,     0]],\n",
       " \n",
       "         [[   41,  5697,    27,  ...,     0,     0,     0],\n",
       "          [   50,    51,    52,  ...,   102,   102,   102],\n",
       "          [   44,    45,    46,  ...,   102,   102,   102],\n",
       "          [    1,     2,     2,  ...,     0,     0,     0]]]),\n",
       " tensor([11, 11, 12,  0, 11,  7, 15, 14,  1,  9, 14,  2,  4, 14,  7,  0,  2,  9,\n",
       "         10, 10, 14,  3, 18, 16, 16, 17,  1,  2,  9,  7, 13,  2,  0,  0, 16,  7,\n",
       "          2,  1,  0,  1, 11,  2, 17,  0,  9,  9,  2,  3,  0,  0,  7,  0,  3,  1,\n",
       "         10,  3, 18, 18,  9, 15,  0,  9,  2,  4,  3,  0,  0,  1,  7,  4, 15,  2,\n",
       "         18, 11, 12,  5,  3,  0,  9,  5,  2,  5, 14, 15, 13,  6,  8,  0,  3,  3,\n",
       "          9, 17, 18,  3,  3,  6,  2, 17,  7, 16,  0,  2,  0,  4,  1,  5,  2, 14,\n",
       "          0, 12,  1,  6,  2,  0,  0,  0, 13,  4,  4,  6,  7,  4,  0,  7,  5,  7,\n",
       "          2, 18]))"
      ]
     },
     "execution_count": 149,
     "metadata": {},
     "output_type": "execute_result"
    }
   ],
   "source": [
    "train_data[0]"
   ]
  },
  {
   "cell_type": "code",
   "execution_count": 150,
   "metadata": {},
   "outputs": [
    {
     "data": {
      "text/plain": [
       "torch.Size([128])"
      ]
     },
     "execution_count": 150,
     "metadata": {},
     "output_type": "execute_result"
    }
   ],
   "source": [
    "train_data[0][1].shape"
   ]
  },
  {
   "cell_type": "code",
   "execution_count": 151,
   "metadata": {},
   "outputs": [
    {
     "data": {
      "text/plain": [
       "torch.Size([128, 4, 100])"
      ]
     },
     "execution_count": 151,
     "metadata": {},
     "output_type": "execute_result"
    }
   ],
   "source": [
    "train_data[0][0].shape"
   ]
  },
  {
   "cell_type": "markdown",
   "metadata": {},
   "source": [
    "## 4.4 模型训练"
   ]
  },
  {
   "cell_type": "code",
   "execution_count": 163,
   "metadata": {},
   "outputs": [],
   "source": [
    "import torch\n",
    "import torch.nn as nn\n",
    "import torch.nn.functional as F\n",
    "from torch.nn import init\n",
    "import torch.optim as optim"
   ]
  },
  {
   "cell_type": "code",
   "execution_count": 154,
   "metadata": {},
   "outputs": [],
   "source": [
    "# 定义模型\n",
    "class CNN(nn.Module):\n",
    "    def __init__(self, word_vec, class_num, config):\n",
    "        super().__init__()\n",
    "        self.word_vec = word_vec\n",
    "        self.class_num = class_num\n",
    "\n",
    "        # hyper parameters and others\n",
    "        self.max_len = config.max_len\n",
    "        self.word_dim = config.word_dim\n",
    "        self.pos_dim = config.pos_dim\n",
    "        self.pos_dis = config.pos_dis\n",
    "\n",
    "        self.dropout_value = config.dropout\n",
    "        self.filter_num = config.filter_num\n",
    "        self.window = config.window\n",
    "        self.hidden_size = config.hidden_size\n",
    "\n",
    "        self.dim = self.word_dim + 2 * self.pos_dim\n",
    "\n",
    "        # net structures and operations\n",
    "        self.word_embedding = nn.Embedding.from_pretrained(\n",
    "            embeddings=self.word_vec,\n",
    "            freeze=False,\n",
    "        )\n",
    "        self.pos1_embedding = nn.Embedding(\n",
    "            num_embeddings=2 * self.pos_dis + 3,\n",
    "            embedding_dim=self.pos_dim\n",
    "        )\n",
    "        self.pos2_embedding = nn.Embedding(\n",
    "            num_embeddings=2 * self.pos_dis + 3,\n",
    "            embedding_dim=self.pos_dim\n",
    "        )\n",
    "\n",
    "        self.conv = nn.Conv2d(\n",
    "            in_channels=1,\n",
    "            out_channels=self.filter_num,\n",
    "            kernel_size=(self.window, self.dim),\n",
    "            stride=(1, 1),\n",
    "            bias=True,\n",
    "            padding=(1, 0),  # same padding\n",
    "            padding_mode='zeros'\n",
    "        )\n",
    "        self.maxpool = nn.MaxPool2d((self.max_len, 1))\n",
    "        self.tanh = nn.Tanh()\n",
    "        self.dropout = nn.Dropout(self.dropout_value)\n",
    "        self.linear = nn.Linear(\n",
    "            in_features=self.filter_num,\n",
    "            out_features=self.hidden_size,\n",
    "            bias=True\n",
    "        )\n",
    "        self.dense = nn.Linear(\n",
    "            in_features=self.hidden_size,\n",
    "            out_features=self.class_num,\n",
    "            bias=True\n",
    "        )\n",
    "\n",
    "        # initialize weight\n",
    "        init.xavier_normal_(self.pos1_embedding.weight)\n",
    "        init.xavier_normal_(self.pos2_embedding.weight)\n",
    "        init.xavier_normal_(self.conv.weight)\n",
    "        init.constant_(self.conv.bias, 0.)\n",
    "        init.xavier_normal_(self.linear.weight)\n",
    "        init.constant_(self.linear.bias, 0.)\n",
    "        init.xavier_normal_(self.dense.weight)\n",
    "        init.constant_(self.dense.bias, 0.)\n",
    "\n",
    "    def encoder_layer(self, token, pos1, pos2):\n",
    "        word_emb = self.word_embedding(token)  # B*L*word_dim\n",
    "        pos1_emb = self.pos1_embedding(pos1)  # B*L*pos_dim\n",
    "        pos2_emb = self.pos2_embedding(pos2)  # B*L*pos_dim\n",
    "        emb = torch.cat(tensors=[word_emb, pos1_emb, pos2_emb], dim=-1)\n",
    "        return emb  # B*L*D, D=word_dim+2*pos_dim\n",
    "\n",
    "    def conv_layer(self, emb, mask):\n",
    "        emb = emb.unsqueeze(dim=1)  # B*1*L*D\n",
    "        conv = self.conv(emb)  # B*C*L*1\n",
    "\n",
    "        # mask, remove the effect of 'PAD'\n",
    "        conv = conv.view(-1, self.filter_num, self.max_len)  # B*C*L\n",
    "        mask = mask.unsqueeze(dim=1)  # B*1*L\n",
    "        mask = mask.expand(-1, self.filter_num, -1)  # B*C*L\n",
    "        conv = conv.masked_fill_(mask.eq(0), float('-inf'))  # B*C*L\n",
    "        conv = conv.unsqueeze(dim=-1)  # B*C*L*1\n",
    "        return conv\n",
    "\n",
    "    def single_maxpool_layer(self, conv):\n",
    "        pool = self.maxpool(conv)  # B*C*1*1\n",
    "        pool = pool.view(-1, self.filter_num)  # B*C\n",
    "        return pool\n",
    "\n",
    "    def forward(self, data):\n",
    "        token = data[:, 0, :].view(-1, self.max_len)\n",
    "        pos1 = data[:, 1, :].view(-1, self.max_len)\n",
    "        pos2 = data[:, 2, :].view(-1, self.max_len)\n",
    "        mask = data[:, 3, :].view(-1, self.max_len)\n",
    "        emb = self.encoder_layer(token, pos1, pos2)\n",
    "        emb = self.dropout(emb)\n",
    "        conv = self.conv_layer(emb, mask)\n",
    "        pool = self.single_maxpool_layer(conv)\n",
    "        sentence_feature = self.linear(pool)\n",
    "        sentence_feature = self.tanh(sentence_feature)\n",
    "        sentence_feature = self.dropout(sentence_feature)\n",
    "        logits = self.dense(sentence_feature)\n",
    "        return logits"
   ]
  },
  {
   "cell_type": "code",
   "execution_count": 156,
   "metadata": {},
   "outputs": [
    {
     "data": {
      "text/plain": [
       "CNN(\n",
       "  (word_embedding): Embedding(246123, 50)\n",
       "  (pos1_embedding): Embedding(103, 5)\n",
       "  (pos2_embedding): Embedding(103, 5)\n",
       "  (conv): Conv2d(1, 200, kernel_size=(3, 60), stride=(1, 1), padding=(1, 0))\n",
       "  (maxpool): MaxPool2d(kernel_size=(100, 1), stride=(100, 1), padding=0, dilation=1, ceil_mode=False)\n",
       "  (tanh): Tanh()\n",
       "  (dropout): Dropout(p=0.5, inplace=False)\n",
       "  (linear): Linear(in_features=200, out_features=100, bias=True)\n",
       "  (dense): Linear(in_features=100, out_features=19, bias=True)\n",
       ")"
      ]
     },
     "execution_count": 156,
     "metadata": {},
     "output_type": "execute_result"
    }
   ],
   "source": [
    "# 实例化\n",
    "model = CNN(word_vec=word_vec, class_num=class_num, config=config)\n",
    "model"
   ]
  },
  {
   "cell_type": "code",
   "execution_count": 159,
   "metadata": {},
   "outputs": [],
   "source": [
    "model = model.to(config.device)"
   ]
  },
  {
   "cell_type": "code",
   "execution_count": 160,
   "metadata": {},
   "outputs": [],
   "source": [
    "# 定义loss\n",
    "criterion = nn.CrossEntropyLoss()"
   ]
  },
  {
   "cell_type": "code",
   "execution_count": 161,
   "metadata": {},
   "outputs": [],
   "source": [
    "# 训练模型\n",
    "# train(model, criterion, loader, config)\n",
    "train_loader, dev_loader, _ = loader"
   ]
  },
  {
   "cell_type": "code",
   "execution_count": 164,
   "metadata": {},
   "outputs": [],
   "source": [
    "# 定义优化器\n",
    "optimizer = optim.Adam(model.parameters(), lr=config.lr,\n",
    "                           weight_decay=config.L2_decay)"
   ]
  },
  {
   "cell_type": "code",
   "execution_count": 206,
   "metadata": {},
   "outputs": [],
   "source": [
    "data, label = list(train_loader)[1]"
   ]
  },
  {
   "cell_type": "code",
   "execution_count": 207,
   "metadata": {},
   "outputs": [
    {
     "data": {
      "text/plain": [
       "tensor([[[16351,  1658,     2,  ...,     0,     0,     0],\n",
       "         [   48,    49,    50,  ...,   102,   102,   102],\n",
       "         [   44,    45,    46,  ...,   102,   102,   102],\n",
       "         [    1,     1,     1,  ...,     0,     0,     0]],\n",
       "\n",
       "        [[   22,  6225,     8,  ...,     0,     0,     0],\n",
       "         [   48,    49,    50,  ...,   102,   102,   102],\n",
       "         [   42,    43,    44,  ...,   102,   102,   102],\n",
       "         [    1,     1,     1,  ...,     0,     0,     0]],\n",
       "\n",
       "        [[    7,     8,  5252,  ...,     0,     0,     0],\n",
       "         [   41,    42,    43,  ...,   102,   102,   102],\n",
       "         [   32,    33,    34,  ...,   102,   102,   102],\n",
       "         [    1,     1,     1,  ...,     0,     0,     0]],\n",
       "\n",
       "        ...,\n",
       "\n",
       "        [[   22,    17,    34,  ...,     0,     0,     0],\n",
       "         [   47,    48,    49,  ...,   102,   102,   102],\n",
       "         [   45,    46,    47,  ...,   102,   102,   102],\n",
       "         [    1,     1,     1,  ...,     0,     0,     0]],\n",
       "\n",
       "        [[    2,     1,     1,  ...,     0,     0,     0],\n",
       "         [   50,    51,    52,  ...,   102,   102,   102],\n",
       "         [   45,    46,    47,  ...,   102,   102,   102],\n",
       "         [    1,     2,     2,  ...,     0,     0,     0]],\n",
       "\n",
       "        [[    2, 64040,     6,  ...,     0,     0,     0],\n",
       "         [   50,    51,    52,  ...,   102,   102,   102],\n",
       "         [   47,    48,    49,  ...,   102,   102,   102],\n",
       "         [    1,     2,     2,  ...,     0,     0,     0]]])"
      ]
     },
     "execution_count": 207,
     "metadata": {},
     "output_type": "execute_result"
    }
   ],
   "source": [
    "data"
   ]
  },
  {
   "cell_type": "code",
   "execution_count": 208,
   "metadata": {},
   "outputs": [],
   "source": [
    "# 将模型切换为训练模式，并且将数据放在cuda上\n",
    "model.train()\n",
    "data = data.to(config.device)\n",
    "label = label.to(config.device)"
   ]
  },
  {
   "cell_type": "code",
   "execution_count": 209,
   "metadata": {},
   "outputs": [],
   "source": [
    "# 在跑当前batch之前，将梯度置0，上一个batch的梯度已经更新过了，即告诉模型不要再管上一个batch的梯度了，不清零会累加计算。\n",
    "# 也可以多个batch只调用一次optimizer.zero_grad()函数，这样相当于增大了batch_size\n",
    "optimizer.zero_grad()  "
   ]
  },
  {
   "cell_type": "code",
   "execution_count": 210,
   "metadata": {},
   "outputs": [],
   "source": [
    "# 将数据送入模型计算，此处的细节看VScode断点调试\n",
    "logits = model(data)"
   ]
  },
  {
   "cell_type": "code",
   "execution_count": 211,
   "metadata": {},
   "outputs": [
    {
     "data": {
      "text/plain": [
       "torch.Size([128, 19])"
      ]
     },
     "execution_count": 211,
     "metadata": {},
     "output_type": "execute_result"
    }
   ],
   "source": [
    "logits.shape"
   ]
  },
  {
   "cell_type": "code",
   "execution_count": 212,
   "metadata": {},
   "outputs": [
    {
     "data": {
      "text/plain": [
       "tensor(2.9072, device='cuda:0', grad_fn=<NllLossBackward>)"
      ]
     },
     "execution_count": 212,
     "metadata": {},
     "output_type": "execute_result"
    }
   ],
   "source": [
    "loss = criterion(logits, label)\n",
    "loss"
   ]
  },
  {
   "cell_type": "code",
   "execution_count": 213,
   "metadata": {},
   "outputs": [],
   "source": [
    "# 梯度方向传播，根据loss计算每个参数的梯度\n",
    "loss.backward()"
   ]
  },
  {
   "cell_type": "code",
   "execution_count": 214,
   "metadata": {},
   "outputs": [],
   "source": [
    "# 通过梯度下降算法来更新参数的值\n",
    "optimizer.step()"
   ]
  },
  {
   "cell_type": "code",
   "execution_count": 215,
   "metadata": {},
   "outputs": [
    {
     "data": {
      "text/plain": [
       "[('weight',\n",
       "  Parameter containing:\n",
       "  tensor([[ 0.2550,  0.0468, -0.1352,  ..., -0.0624, -0.0360,  0.0641],\n",
       "          [ 0.0474, -0.0068,  0.2009,  ..., -0.2657,  0.2465,  0.0497],\n",
       "          [-0.1949, -0.0198,  0.1478,  ...,  0.0678,  0.2272, -0.1991],\n",
       "          ...,\n",
       "          [-0.1813,  0.0697,  0.1112,  ...,  0.0311, -0.0302, -0.0829],\n",
       "          [ 0.0717, -0.4372, -0.0708,  ...,  0.2782, -0.0987,  0.0152],\n",
       "          [-0.1340,  0.0910, -0.0305,  ...,  0.0989,  0.0351,  0.2546]],\n",
       "         device='cuda:0', requires_grad=True)),\n",
       " ('bias',\n",
       "  Parameter containing:\n",
       "  tensor([ 0.0020, -0.0020,  0.0020, -0.0003,  0.0020, -0.0020, -0.0020,  0.0019,\n",
       "          -0.0020, -0.0020, -0.0020, -0.0020, -0.0020, -0.0020, -0.0017,  0.0020,\n",
       "          -0.0020, -0.0019, -0.0011], device='cuda:0', requires_grad=True))]"
      ]
     },
     "execution_count": 215,
     "metadata": {},
     "output_type": "execute_result"
    }
   ],
   "source": [
    "list(model.dense.named_parameters())"
   ]
  },
  {
   "cell_type": "code",
   "execution_count": 204,
   "metadata": {},
   "outputs": [
    {
     "data": {
      "text/plain": [
       "[('weight',\n",
       "  Parameter containing:\n",
       "  tensor([[ 0.2544,  0.0478, -0.1343,  ..., -0.0615, -0.0350,  0.0633],\n",
       "          [ 0.0482, -0.0075,  0.2011,  ..., -0.2665,  0.2456,  0.0506],\n",
       "          [-0.1958, -0.0189,  0.1488,  ...,  0.0688,  0.2282, -0.1998],\n",
       "          ...,\n",
       "          [-0.1805,  0.0687,  0.1103,  ...,  0.0302, -0.0312, -0.0819],\n",
       "          [ 0.0708, -0.4382, -0.0718,  ...,  0.2789, -0.0997,  0.0159],\n",
       "          [-0.1335,  0.0906, -0.0314,  ...,  0.0993,  0.0341,  0.2546]],\n",
       "         device='cuda:0', requires_grad=True)),\n",
       " ('bias',\n",
       "  Parameter containing:\n",
       "  tensor([ 0.0010, -0.0010,  0.0010, -0.0010,  0.0010, -0.0010, -0.0010,  0.0010,\n",
       "          -0.0010, -0.0010, -0.0010, -0.0010, -0.0010, -0.0010, -0.0010,  0.0010,\n",
       "          -0.0010, -0.0010, -0.0010], device='cuda:0', requires_grad=True))]"
      ]
     },
     "execution_count": 204,
     "metadata": {},
     "output_type": "execute_result"
    }
   ],
   "source": [
    "list(model.dense.named_parameters())"
   ]
  },
  {
   "cell_type": "markdown",
   "metadata": {},
   "source": [
    "## 4.5 模型评价\n",
    "现在假设训练好了一个模型（或者模型训练了一个epoch），我们想看看模型现在的性能，那么就需要对模型进行评价\n",
    "\n",
    "**目录**\n",
    "* 模型预测\n",
    "* 计算评价指标\n"
   ]
  },
  {
   "cell_type": "markdown",
   "metadata": {},
   "source": [
    "### 4.5.1 模型预测"
   ]
  },
  {
   "cell_type": "code",
   "execution_count": 217,
   "metadata": {},
   "outputs": [],
   "source": [
    "# 我们拿验证集的数据对模型进行评价\n",
    "dev_data, dev_lb = list(dev_loader)[0]"
   ]
  },
  {
   "cell_type": "code",
   "execution_count": 219,
   "metadata": {},
   "outputs": [
    {
     "data": {
      "text/plain": [
       "torch.Size([128, 4, 100])"
      ]
     },
     "execution_count": 219,
     "metadata": {},
     "output_type": "execute_result"
    }
   ],
   "source": [
    "dev_data.shape"
   ]
  },
  {
   "cell_type": "code",
   "execution_count": 220,
   "metadata": {},
   "outputs": [
    {
     "data": {
      "text/plain": [
       "CNN(\n",
       "  (word_embedding): Embedding(246123, 50)\n",
       "  (pos1_embedding): Embedding(103, 5)\n",
       "  (pos2_embedding): Embedding(103, 5)\n",
       "  (conv): Conv2d(1, 200, kernel_size=(3, 60), stride=(1, 1), padding=(1, 0))\n",
       "  (maxpool): MaxPool2d(kernel_size=(100, 1), stride=(100, 1), padding=0, dilation=1, ceil_mode=False)\n",
       "  (tanh): Tanh()\n",
       "  (dropout): Dropout(p=0.5, inplace=False)\n",
       "  (linear): Linear(in_features=200, out_features=100, bias=True)\n",
       "  (dense): Linear(in_features=100, out_features=19, bias=True)\n",
       ")"
      ]
     },
     "execution_count": 220,
     "metadata": {},
     "output_type": "execute_result"
    }
   ],
   "source": [
    "model.eval()"
   ]
  },
  {
   "cell_type": "code",
   "execution_count": 222,
   "metadata": {},
   "outputs": [],
   "source": [
    "with torch.no_grad():\n",
    "    dev_data = dev_data.to(config.device)\n",
    "    dev_lb = dev_lb.to(config.device)"
   ]
  },
  {
   "cell_type": "code",
   "execution_count": 223,
   "metadata": {},
   "outputs": [],
   "source": [
    "logits = model(dev_data)"
   ]
  },
  {
   "cell_type": "code",
   "execution_count": 225,
   "metadata": {},
   "outputs": [
    {
     "data": {
      "text/plain": [
       "torch.Size([128, 19])"
      ]
     },
     "execution_count": 225,
     "metadata": {},
     "output_type": "execute_result"
    }
   ],
   "source": [
    "logits.shape"
   ]
  },
  {
   "cell_type": "code",
   "execution_count": 226,
   "metadata": {},
   "outputs": [
    {
     "data": {
      "text/plain": [
       "tensor(2.8869, device='cuda:0', grad_fn=<NllLossBackward>)"
      ]
     },
     "execution_count": 226,
     "metadata": {},
     "output_type": "execute_result"
    }
   ],
   "source": [
    "loss = criterion(logits, dev_lb)\n",
    "loss"
   ]
  },
  {
   "cell_type": "code",
   "execution_count": 227,
   "metadata": {},
   "outputs": [
    {
     "data": {
      "text/plain": [
       "tensor([0, 0, 0, 0, 0, 0, 0, 0, 0, 0, 7, 0, 0, 0, 0, 0, 0, 0, 0, 0, 0, 0, 0, 0,\n",
       "        0, 0, 0, 0, 0, 0, 0, 0, 0, 0, 0, 0, 0, 0, 0, 0, 0, 0, 0, 0, 0, 0, 0, 0,\n",
       "        0, 0, 0, 0, 0, 0, 0, 0, 0, 0, 0, 0, 0, 0, 0, 0, 0, 0, 0, 0, 0, 0, 0, 0,\n",
       "        0, 0, 0, 0, 0, 0, 0, 0, 0, 0, 0, 0, 0, 0, 0, 0, 0, 0, 0, 0, 0, 0, 0, 0,\n",
       "        0, 0, 0, 0, 0, 0, 0, 0, 0, 0, 0, 0, 0, 0, 0, 0, 0, 0, 0, 0, 0, 0, 0, 0,\n",
       "        0, 0, 0, 0, 0, 0, 0, 7], device='cuda:0')"
      ]
     },
     "execution_count": 227,
     "metadata": {},
     "output_type": "execute_result"
    }
   ],
   "source": [
    "_, pred = torch.max(logits, dim=1)\n",
    "pred"
   ]
  },
  {
   "cell_type": "markdown",
   "metadata": {},
   "source": [
    "### 4.5.2 计算评价指标\n",
    "* 然后有了预测和标签，我们就可以计算我们的指标了，本篇文章的评价指标用的是macro-averaged F1-scores"
   ]
  },
  {
   "cell_type": "markdown",
   "metadata": {},
   "source": [
    "####  混淆矩阵\n",
    "\n",
    "　　统计分类模型的分类结果，即：统计`正确归类`和`错误归类`的`样本的个数`，然后把结果放在一个表里展示出来，这个表就是混淆矩阵。\n",
    "  \n",
    "　　例如：宠物店有12只动物，其中`6只狗，6只猫（真实值）`，现有一个模型将这12只动物进行分类，分类预测结果为`7只狗，5只猫（预测值）`，对分类结果画出对应混淆矩阵（两行两列）进行分析（狗：类别1，猫：类别2）：\n",
    "\n",
    "<img src=\"./imgs/confusion.png\" width=\"450\" height=\"450\" align=\"center\"/>\n",
    "\n",
    "　　矩阵中每一项$N_{ij}$表示`样本数`,其中的`i`表示真实类别，`j`表示预测类别，如：$N_{11}=5$  表示真实为`狗`,预测是`狗`的`样本数量是5`，$N_{12}=1$  表示真实为`狗`,预测是`猫`的`样本数量为1`。 显然对`角线上的项`表示`正确分类的样本数`。\n",
    "  \n"
   ]
  },
  {
   "attachments": {
    "image.png": {
     "image/png": "[encoded data removed]"
    }
   },
   "cell_type": "markdown",
   "metadata": {},
   "source": [
    "![image.png](attachment:image.png)"
   ]
  },
  {
   "attachments": {
    "image.png": {
     "image/png": "[encoded data removed]"
    }
   },
   "cell_type": "markdown",
   "metadata": {},
   "source": [
    "#### precision 计算方式\n",
    "![image.png](attachment:image.png)"
   ]
  },
  {
   "attachments": {
    "image.png": {
     "image/png": "[encoded data removed]"
    }
   },
   "cell_type": "markdown",
   "metadata": {},
   "source": [
    "#### recall 计算方式\n",
    "![image.png](attachment:image.png)"
   ]
  },
  {
   "attachments": {
    "image.png": {
     "image/png": "[encoded data removed]"
    }
   },
   "cell_type": "markdown",
   "metadata": {},
   "source": [
    "#### F1 值计算方式\n",
    "![image.png](attachment:image.png)"
   ]
  },
  {
   "cell_type": "code",
   "execution_count": 237,
   "metadata": {
    "scrolled": true
   },
   "outputs": [
    {
     "data": {
      "text/plain": [
       "tensor([0, 0, 0, 0, 0, 0, 0, 0, 0, 0, 7, 0, 0, 0, 0, 0, 0, 0, 0, 0, 0, 0, 0, 0,\n",
       "        0, 0, 0, 0, 0, 0, 0, 0, 0, 0, 0, 0, 0, 0, 0, 0, 0, 0, 0, 0, 0, 0, 0, 0,\n",
       "        0, 0, 0, 0, 0, 0, 0, 0, 0, 0, 0, 0, 0, 0, 0, 0, 0, 0, 0, 0, 0, 0, 0, 0,\n",
       "        0, 0, 0, 0, 0, 0, 0, 0, 0, 0, 0, 0, 0, 0, 0, 0, 0, 0, 0, 0, 0, 0, 0, 0,\n",
       "        0, 0, 0, 0, 0, 0, 0, 0, 0, 0, 0, 0, 0, 0, 0, 0, 0, 0, 0, 0, 0, 0, 0, 0,\n",
       "        0, 0, 0, 0, 0, 0, 0, 7], device='cuda:0')"
      ]
     },
     "execution_count": 237,
     "metadata": {},
     "output_type": "execute_result"
    }
   ],
   "source": [
    "predict_label = pred\n",
    "predict_label"
   ]
  },
  {
   "cell_type": "code",
   "execution_count": 240,
   "metadata": {},
   "outputs": [],
   "source": [
    "predict_label[0] = 15\n",
    "predict_label[1] = 18\n",
    "predict_label[2] = 12\n",
    "predict_label[3] = 7\n",
    "predict_label[4] = 2\n",
    "predict_label[5] = 3"
   ]
  },
  {
   "cell_type": "code",
   "execution_count": 241,
   "metadata": {},
   "outputs": [
    {
     "data": {
      "text/plain": [
       "tensor([15, 18, 12,  7,  2,  3,  0,  0,  0,  0,  7,  0,  0,  0,  0,  0,  0,  0,\n",
       "         0,  0,  0,  0,  0,  0,  0,  0,  0,  0,  0,  0,  0,  0,  0,  0,  0,  0,\n",
       "         0,  0,  0,  0,  0,  0,  0,  0,  0,  0,  0,  0,  0,  0,  0,  0,  0,  0,\n",
       "         0,  0,  0,  0,  0,  0,  0,  0,  0,  0,  0,  0,  0,  0,  0,  0,  0,  0,\n",
       "         0,  0,  0,  0,  0,  0,  0,  0,  0,  0,  0,  0,  0,  0,  0,  0,  0,  0,\n",
       "         0,  0,  0,  0,  0,  0,  0,  0,  0,  0,  0,  0,  0,  0,  0,  0,  0,  0,\n",
       "         0,  0,  0,  0,  0,  0,  0,  0,  0,  0,  0,  0,  0,  0,  0,  0,  0,  0,\n",
       "         0,  7], device='cuda:0')"
      ]
     },
     "execution_count": 241,
     "metadata": {},
     "output_type": "execute_result"
    }
   ],
   "source": [
    "predict_label"
   ]
  },
  {
   "cell_type": "code",
   "execution_count": 244,
   "metadata": {},
   "outputs": [
    {
     "data": {
      "text/plain": [
       "tensor([15, 18, 12,  7,  2,  3, 17, 14,  3, 15,  7,  0,  7, 17,  9,  9,  7,  0,\n",
       "        14, 17, 15,  5, 17,  0, 10, 17,  2,  0,  0,  9,  1, 15,  3, 17,  3,  4,\n",
       "        14,  6, 14, 17,  1,  4,  1,  7,  9,  5,  0,  7, 15,  0,  7,  0, 14,  0,\n",
       "         1,  9,  0,  1,  0,  4, 10, 17, 12,  3,  7, 18,  0,  0, 15, 17,  0,  9,\n",
       "         2,  9,  0, 17,  0, 12,  7, 18,  3,  3,  1,  3, 15, 12, 15, 18, 10, 15,\n",
       "         9,  0,  3,  3,  0,  7, 15,  3,  7, 15, 15,  4,  9, 15,  2,  0,  2,  1,\n",
       "         4, 14,  0,  5,  0, 18,  0,  2, 17,  1, 14,  4,  7, 12,  0,  0, 15, 10,\n",
       "        10,  0], device='cuda:0')"
      ]
     },
     "execution_count": 244,
     "metadata": {},
     "output_type": "execute_result"
    }
   ],
   "source": [
    "true_label = dev_lb\n",
    "true_label"
   ]
  },
  {
   "cell_type": "code",
   "execution_count": 234,
   "metadata": {},
   "outputs": [
    {
     "data": {
      "text/plain": [
       "(19, 19)"
      ]
     },
     "execution_count": 234,
     "metadata": {},
     "output_type": "execute_result"
    }
   ],
   "source": [
    "# 为了方便计算定义一个混淆举证\n",
    "confusion_matrix = np.zeros(shape=[class_num, class_num], dtype=np.float32)\n",
    "confusion_matrix.shape"
   ]
  },
  {
   "cell_type": "code",
   "execution_count": 250,
   "metadata": {},
   "outputs": [],
   "source": [
    "# 一共有128个样本（我们只取出一个batch的数据进行计算，batch_size=128）\n",
    "# 先取出第0个样本\n",
    "true_idx = true_label[0]\n",
    "predict_idx = predict_label[0]\n",
    "if true_label[0] == predict_label[0]:\n",
    "    confusion_matrix[true_idx][true_idx] += 1"
   ]
  },
  {
   "cell_type": "code",
   "execution_count": 251,
   "metadata": {},
   "outputs": [
    {
     "data": {
      "text/plain": [
       "array([[2., 0., 0., 0., 0., 0., 0., 0., 0., 0., 0., 0., 0., 0., 0., 0.,\n",
       "        0., 0., 0.],\n",
       "       [0., 1., 0., 0., 0., 0., 0., 0., 0., 0., 0., 0., 0., 0., 0., 0.,\n",
       "        0., 0., 0.],\n",
       "       [0., 0., 1., 0., 0., 0., 0., 0., 0., 0., 0., 0., 0., 0., 0., 0.,\n",
       "        0., 0., 0.],\n",
       "       [0., 0., 0., 1., 0., 0., 0., 0., 0., 0., 0., 0., 0., 0., 0., 0.,\n",
       "        0., 0., 0.],\n",
       "       [0., 0., 0., 0., 1., 0., 0., 0., 0., 0., 0., 0., 0., 0., 0., 0.,\n",
       "        0., 0., 0.],\n",
       "       [0., 0., 0., 0., 0., 1., 0., 0., 0., 0., 0., 0., 0., 0., 0., 0.,\n",
       "        0., 0., 0.],\n",
       "       [0., 0., 0., 0., 0., 0., 0., 0., 0., 0., 0., 0., 0., 0., 0., 0.,\n",
       "        0., 0., 0.],\n",
       "       [0., 0., 0., 0., 0., 0., 0., 0., 0., 0., 0., 0., 0., 0., 0., 0.,\n",
       "        0., 0., 0.],\n",
       "       [0., 0., 0., 0., 0., 0., 0., 0., 0., 0., 0., 0., 0., 0., 0., 0.,\n",
       "        0., 0., 0.],\n",
       "       [0., 0., 0., 0., 0., 0., 0., 0., 0., 0., 0., 0., 0., 0., 0., 0.,\n",
       "        0., 0., 0.],\n",
       "       [0., 0., 0., 0., 0., 0., 0., 0., 0., 0., 1., 0., 0., 0., 0., 0.,\n",
       "        0., 0., 0.],\n",
       "       [0., 0., 0., 0., 0., 0., 0., 0., 0., 0., 0., 1., 0., 0., 0., 0.,\n",
       "        0., 0., 0.],\n",
       "       [0., 0., 0., 0., 0., 0., 0., 0., 0., 0., 0., 0., 0., 0., 0., 0.,\n",
       "        0., 0., 0.],\n",
       "       [0., 0., 0., 0., 0., 0., 0., 0., 0., 0., 0., 0., 0., 0., 0., 0.,\n",
       "        0., 0., 0.],\n",
       "       [0., 0., 0., 0., 0., 0., 0., 0., 0., 0., 0., 0., 0., 0., 0., 0.,\n",
       "        0., 0., 0.],\n",
       "       [0., 0., 0., 0., 0., 0., 0., 0., 0., 0., 0., 0., 0., 0., 0., 2.,\n",
       "        0., 0., 0.],\n",
       "       [0., 0., 0., 0., 0., 0., 0., 0., 0., 0., 0., 0., 0., 0., 0., 0.,\n",
       "        0., 0., 0.],\n",
       "       [0., 0., 0., 0., 0., 0., 0., 0., 0., 0., 0., 0., 0., 0., 0., 0.,\n",
       "        0., 1., 0.],\n",
       "       [0., 0., 0., 0., 0., 0., 0., 0., 0., 0., 0., 0., 0., 0., 0., 0.,\n",
       "        0., 0., 0.]], dtype=float32)"
      ]
     },
     "execution_count": 251,
     "metadata": {},
     "output_type": "execute_result"
    }
   ],
   "source": [
    "confusion_matrix"
   ]
  },
  {
   "cell_type": "code",
   "execution_count": 254,
   "metadata": {},
   "outputs": [],
   "source": [
    "# 遍历所有的样本数据，来构建混淆矩阵\n",
    "for i in range(true_label.shape[0]):\n",
    "    true_idx = true_label[i]\n",
    "    predict_idx = predict_label[i]\n",
    "    confusion_matrix[true_idx][predict_idx] += 1"
   ]
  },
  {
   "cell_type": "code",
   "execution_count": 255,
   "metadata": {},
   "outputs": [
    {
     "data": {
      "text/plain": [
       "array([[27.,  0.,  0.,  0.,  0.,  0.,  0.,  1.,  0.,  0.,  0.,  0.,  0.,\n",
       "         0.,  0.,  0.,  0.,  0.,  0.],\n",
       "       [ 8.,  2.,  0.,  0.,  0.,  0.,  0.,  0.,  0.,  0.,  0.,  0.,  0.,\n",
       "         0.,  0.,  0.,  0.,  0.,  0.],\n",
       "       [ 5.,  0.,  3.,  0.,  0.,  0.,  0.,  0.,  0.,  0.,  0.,  0.,  0.,\n",
       "         0.,  0.,  0.,  0.,  0.,  0.],\n",
       "       [10.,  0.,  0.,  3.,  0.,  0.,  0.,  0.,  0.,  0.,  0.,  0.,  0.,\n",
       "         0.,  0.,  0.,  0.,  0.,  0.],\n",
       "       [ 6.,  0.,  0.,  0.,  2.,  0.,  0.,  0.,  0.,  0.,  0.,  0.,  0.,\n",
       "         0.,  0.,  0.,  0.,  0.,  0.],\n",
       "       [ 3.,  0.,  0.,  0.,  0.,  2.,  0.,  0.,  0.,  0.,  0.,  0.,  0.,\n",
       "         0.,  0.,  0.,  0.,  0.,  0.],\n",
       "       [ 1.,  0.,  0.,  0.,  0.,  0.,  1.,  0.,  0.,  0.,  0.,  0.,  0.,\n",
       "         0.,  0.,  0.,  0.,  0.,  0.],\n",
       "       [10.,  0.,  0.,  0.,  0.,  0.,  0.,  3.,  0.,  0.,  0.,  0.,  0.,\n",
       "         0.,  0.,  0.,  0.,  0.,  0.],\n",
       "       [ 0.,  0.,  0.,  0.,  0.,  0.,  0.,  0.,  1.,  0.,  0.,  0.,  0.,\n",
       "         0.,  0.,  0.,  0.,  0.,  0.],\n",
       "       [ 9.,  0.,  0.,  0.,  0.,  0.,  0.,  0.,  0.,  1.,  0.,  0.,  0.,\n",
       "         0.,  0.,  0.,  0.,  0.,  0.],\n",
       "       [ 5.,  0.,  0.,  0.,  0.,  0.,  0.,  0.,  0.,  0.,  2.,  0.,  0.,\n",
       "         0.,  0.,  0.,  0.,  0.,  0.],\n",
       "       [ 0.,  0.,  0.,  0.,  0.,  0.,  0.,  0.,  0.,  0.,  0.,  2.,  0.,\n",
       "         0.,  0.,  0.,  0.,  0.,  0.],\n",
       "       [ 4.,  0.,  0.,  0.,  0.,  0.,  0.,  0.,  0.,  0.,  0.,  0.,  2.,\n",
       "         0.,  0.,  0.,  0.,  0.,  0.],\n",
       "       [ 0.,  0.,  0.,  0.,  0.,  0.,  0.,  0.,  0.,  0.,  0.,  0.,  0.,\n",
       "         1.,  0.,  0.,  0.,  0.,  0.],\n",
       "       [ 7.,  0.,  0.,  0.,  0.,  0.,  0.,  0.,  0.,  0.,  0.,  0.,  0.,\n",
       "         0.,  1.,  0.,  0.,  0.,  0.],\n",
       "       [13.,  0.,  0.,  0.,  0.,  0.,  0.,  0.,  0.,  0.,  0.,  0.,  0.,\n",
       "         0.,  0.,  4.,  0.,  0.,  0.],\n",
       "       [ 0.,  0.,  0.,  0.,  0.,  0.,  0.,  0.,  0.,  0.,  0.,  0.,  0.,\n",
       "         0.,  0.,  0.,  1.,  0.,  0.],\n",
       "       [11.,  0.,  0.,  0.,  0.,  0.,  0.,  0.,  0.,  0.,  0.,  0.,  0.,\n",
       "         0.,  0.,  0.,  0.,  2.,  0.],\n",
       "       [ 4.,  0.,  0.,  0.,  0.,  0.,  0.,  0.,  0.,  0.,  0.,  0.,  0.,\n",
       "         0.,  0.,  0.,  0.,  0.,  2.]], dtype=float32)"
      ]
     },
     "execution_count": 255,
     "metadata": {},
     "output_type": "execute_result"
    }
   ],
   "source": [
    "confusion_matrix"
   ]
  },
  {
   "cell_type": "code",
   "execution_count": 259,
   "metadata": {},
   "outputs": [
    {
     "data": {
      "text/plain": [
       "array([123.,   2.,   3.,   3.,   2.,   2.,   1.,   4.,   1.,   1.,   2.,\n",
       "         2.,   2.,   1.,   1.,   4.,   1.,   2.,   2.], dtype=float32)"
      ]
     },
     "execution_count": 259,
     "metadata": {},
     "output_type": "execute_result"
    }
   ],
   "source": [
    "col_sum = np.sum(confusion_matrix, axis=0).reshape(-1)\n",
    "col_sum"
   ]
  },
  {
   "cell_type": "code",
   "execution_count": 260,
   "metadata": {},
   "outputs": [
    {
     "data": {
      "text/plain": [
       "array([28., 10.,  8., 13.,  8.,  5.,  2., 13.,  1., 10.,  7.,  2.,  6.,\n",
       "        1.,  8., 17.,  1., 13.,  6.], dtype=float32)"
      ]
     },
     "execution_count": 260,
     "metadata": {},
     "output_type": "execute_result"
    }
   ],
   "source": [
    "row_sum = np.sum(confusion_matrix, axis=1).reshape(-1)\n",
    "row_sum"
   ]
  },
  {
   "cell_type": "code",
   "execution_count": 258,
   "metadata": {},
   "outputs": [],
   "source": [
    "f1 = np.zeros(shape=[class_num], dtype=np.float32)"
   ]
  },
  {
   "cell_type": "code",
   "execution_count": 261,
   "metadata": {},
   "outputs": [],
   "source": [
    "# 计算第0个类别的f1值\n",
    "p = float(confusion_matrix[0][0]) / float(col_sum[0])\n",
    "r = float(confusion_matrix[0][0]) / float(row_sum[0])\n",
    "f1[0] = (2 * p * r / (p + r))"
   ]
  },
  {
   "cell_type": "code",
   "execution_count": 262,
   "metadata": {},
   "outputs": [
    {
     "data": {
      "text/plain": [
       "array([0.3576159, 0.       , 0.       , 0.       , 0.       , 0.       ,\n",
       "       0.       , 0.       , 0.       , 0.       , 0.       , 0.       ,\n",
       "       0.       , 0.       , 0.       , 0.       , 0.       , 0.       ,\n",
       "       0.       ], dtype=float32)"
      ]
     },
     "execution_count": 262,
     "metadata": {},
     "output_type": "execute_result"
    }
   ],
   "source": [
    "f1"
   ]
  },
  {
   "cell_type": "code",
   "execution_count": 265,
   "metadata": {},
   "outputs": [],
   "source": [
    "# 计算所有类别的f1值\n",
    "for i in range(0, class_num):\n",
    "    p = float(confusion_matrix[i][i]) / float(col_sum[i])\n",
    "    r = float(confusion_matrix[i][i]) / float(row_sum[i])\n",
    "    f1[i] = (2 * p * r / (p + r))"
   ]
  },
  {
   "cell_type": "code",
   "execution_count": 272,
   "metadata": {},
   "outputs": [
    {
     "data": {
      "text/plain": [
       "array([0.3576159 , 0.33333334, 0.54545456, 0.375     , 0.4       ,\n",
       "       0.5714286 , 0.6666667 , 0.3529412 , 1.        , 0.18181819,\n",
       "       0.44444445, 1.        , 0.5       , 1.        , 0.22222222,\n",
       "       0.3809524 , 1.        , 0.26666668, 0.5       ], dtype=float32)"
      ]
     },
     "execution_count": 272,
     "metadata": {},
     "output_type": "execute_result"
    }
   ],
   "source": [
    "f1"
   ]
  },
  {
   "cell_type": "code",
   "execution_count": 278,
   "metadata": {},
   "outputs": [],
   "source": [
    "actual_class = 0\n",
    "total_f1 = 0.0"
   ]
  },
  {
   "cell_type": "code",
   "execution_count": 279,
   "metadata": {},
   "outputs": [],
   "source": [
    "for i in range(1, class_num):\n",
    "    if f1[i] > 0.0:  # classes that not in the predict label are not considered\n",
    "        actual_class += 1\n",
    "        total_f1 += f1[i]"
   ]
  },
  {
   "cell_type": "code",
   "execution_count": 280,
   "metadata": {},
   "outputs": [],
   "source": [
    "macro_f1 = total_f1 / actual_class"
   ]
  },
  {
   "cell_type": "code",
   "execution_count": 281,
   "metadata": {},
   "outputs": [
    {
     "data": {
      "text/plain": [
       "0.5411626837319798"
      ]
     },
     "execution_count": 281,
     "metadata": {},
     "output_type": "execute_result"
    }
   ],
   "source": [
    "macro_f1"
   ]
  },
  {
   "cell_type": "markdown",
   "metadata": {},
   "source": [
    "# 5 代码梳理及细节回顾(在VScode中演示)\n",
    "\n",
    "　　在VScode环境中的训练文件里再回顾训练流程。"
   ]
  },
  {
   "cell_type": "markdown",
   "metadata": {},
   "source": [
    "# 6 作业\n",
    "  \n",
    "`【思考题】`思考这篇文章中使用的CNN捕获了什么样的特征，有什么不足的地方有待改进。\n",
    "\n",
    "`【代码实践】`复现该文章代码的模型（CNN）部分\n",
    "\n",
    "`【画图】`按照自己的理解画出模型的结构图。\n",
    "\n",
    "`【总结】`对这篇文章进行回顾，画出文章整体的结构图。\n",
    "\n",
    "---"
   ]
  },
  {
   "cell_type": "code",
   "execution_count": null,
   "metadata": {},
   "outputs": [],
   "source": []
  }
 ],
 "metadata": {
  "colab": {
   "authorship_tag": "ABX9TyMaJPtlMHur6DonwEyZLw5h",
   "collapsed_sections": [],
   "name": "data process and load.ipynb",
   "provenance": []
  },
  "kernelspec": {
   "display_name": "PYTH_1.6",
   "language": "python",
   "name": "pyth_1.6"
  },
  "language_info": {
   "codemirror_mode": {
    "name": "ipython",
    "version": 3
   },
   "file_extension": ".py",
   "mimetype": "text/x-python",
   "name": "python",
   "nbconvert_exporter": "python",
   "pygments_lexer": "ipython3",
   "version": "3.8.3"
  },
  "toc": {
   "base_numbering": 1,
   "nav_menu": {},
   "number_sections": false,
   "sideBar": true,
   "skip_h1_title": true,
   "title_cell": "Table of Contents",
   "title_sidebar": "Contents",
   "toc_cell": false,
   "toc_position": {
    "height": "calc(100% - 180px)",
    "left": "10px",
    "top": "150px",
    "width": "173.72px"
   },
   "toc_section_display": true,
   "toc_window_display": true
  },
  "varInspector": {
   "cols": {
    "lenName": 16,
    "lenType": 16,
    "lenVar": 40
   },
   "kernels_config": {
    "python": {
     "delete_cmd_postfix": "",
     "delete_cmd_prefix": "del ",
     "library": "var_list.py",
     "varRefreshCmd": "print(var_dic_list())"
    },
    "r": {
     "delete_cmd_postfix": ") ",
     "delete_cmd_prefix": "rm(",
     "library": "var_list.r",
     "varRefreshCmd": "cat(var_dic_list()) "
    }
   },
   "types_to_exclude": [
    "module",
    "function",
    "builtin_function_or_method",
    "instance",
    "_Feature"
   ],
   "window_display": false
  }
 },
 "nbformat": 4,
 "nbformat_minor": 1
}
